{
 "cells": [
  {
   "cell_type": "markdown",
   "id": "d789dae0",
   "metadata": {},
   "source": [
    "# Applying Advanced Transformations\n",
    "Cameron Peace\n"
   ]
  },
  {
   "cell_type": "markdown",
   "id": "72b76b92",
   "metadata": {},
   "source": [
    "## Task"
   ]
  },
  {
   "cell_type": "markdown",
   "id": "e0b6169d",
   "metadata": {},
   "source": [
    "<mark><u>**I. Clean the files and combine them into one final DataFrame.**\n",
    "\n",
    "This dataframe should have the following columns:\n",
    "\n",
    "* [x] Hero (Just the name of the Hero)\n",
    "* [x] Publisher\n",
    "* [x] Gender\n",
    "* [x] Eye color\n",
    "* [x] Race\n",
    "* [x] Hair color\n",
    "* [x] Height (numeric)\n",
    "* [x] Skin color\n",
    "* [x] Alignment\n",
    "* [x] Weight (numeric)\n",
    "* [x] Plus, one-hot-encoded columns for every power that appears in the dataset. E.g.:\n",
    "    * Agility\n",
    "    * Flight\n",
    "    * Superspeed\n",
    "    * etc.\n",
    "\n",
    "<mark><u>**II. Use your combined DataFrame to answer the following questions.**\n",
    "\n",
    "* [x] Compare the average weight of super heroes who have Super Speed to those who do not.\n",
    "    * Super Speed heroes: 129.40 kg average weight\n",
    "    * Non Super Speed heroes: 101.77 kg average weight\n",
    "* [x] What is the average height of heroes for each publisher?\n",
    "    * Image Comics: &emsp;\t211.00\n",
    "    * Marvel Comics: &emsp;\t191.55\n",
    "    * DC Comics: &emsp;\t181.92\n",
    "    * Star Trek: &emsp;\t181.50\n",
    "    * Team Epic: &emsp; TV\t180.75\n",
    "    * Unknown: &emsp;\t178.00\n",
    "    * Dark Horse Comics: &emsp;\t176.91\n",
    "    * Shueisha: &emsp;\t171.50\n",
    "    * George Lucas: &emsp;\t159.60"
   ]
  },
  {
   "cell_type": "markdown",
   "id": "e2d2c313",
   "metadata": {},
   "source": [
    "## Data Dictionary"
   ]
  },
  {
   "cell_type": "markdown",
   "id": "27b963bb",
   "metadata": {},
   "source": [
    "* **Row Identification** - index\n",
    "* **name** \n",
    "* **Gender** \n",
    "* **Eye color** \n",
    "* **Race** \n",
    "* **Hair color** \n",
    "* **Height** - The height measured in centimeters\n",
    "* **Publisher** - comics publisher\n",
    "* **Skin color**\n",
    "* **Alignment** - (good, bad, neutral, unknown)\n",
    "* **Weight** - The weight measured in pounds"
   ]
  },
  {
   "cell_type": "markdown",
   "id": "d699e9c4",
   "metadata": {},
   "source": [
    "### Data Background"
   ]
  },
  {
   "cell_type": "markdown",
   "id": "c0fba646",
   "metadata": {},
   "source": [
    "This dataset is a modified version of a dataset found [here](https://www.kaggle.com/datasets/claudiodavi/superhero-set) on kaggle.  It has been altered by Coding Dojo for educational purposes."
   ]
  },
  {
   "cell_type": "markdown",
   "id": "6d40d3b7",
   "metadata": {},
   "source": [
    "## Imports, Loading, Viewing Data"
   ]
  },
  {
   "cell_type": "code",
   "execution_count": 1,
   "id": "2744d16e",
   "metadata": {},
   "outputs": [],
   "source": [
    "import pandas as pd\n",
    "import numpy as np\n",
    "from matplotlib import pyplot as plt\n",
    "import seaborn as sns\n",
    "import json\n",
    "\n",
    "# settings\n",
    "import warnings\n",
    "warnings.filterwarnings(\"ignore\")\n",
    "pd.set_option('display.max_rows', None)"
   ]
  },
  {
   "cell_type": "code",
   "execution_count": 2,
   "id": "d200c649",
   "metadata": {},
   "outputs": [],
   "source": [
    "# loading the data\n",
    "df_info = pd.read_csv('superhero_info.csv')\n",
    "df_powers = pd.read_csv('superhero_powers.csv')\n",
    "\n",
    "# making a copy\n",
    "df_info_original = df_info.copy()\n",
    "df_powers_original = df_powers.copy()"
   ]
  },
  {
   "cell_type": "markdown",
   "id": "ccfe97e1",
   "metadata": {},
   "source": [
    "#### Viewing Superhero info df"
   ]
  },
  {
   "cell_type": "code",
   "execution_count": 3,
   "id": "1d10ee95",
   "metadata": {},
   "outputs": [
    {
     "data": {
      "text/html": [
       "<div>\n",
       "<style scoped>\n",
       "    .dataframe tbody tr th:only-of-type {\n",
       "        vertical-align: middle;\n",
       "    }\n",
       "\n",
       "    .dataframe tbody tr th {\n",
       "        vertical-align: top;\n",
       "    }\n",
       "\n",
       "    .dataframe thead th {\n",
       "        text-align: right;\n",
       "    }\n",
       "</style>\n",
       "<table border=\"1\" class=\"dataframe\">\n",
       "  <thead>\n",
       "    <tr style=\"text-align: right;\">\n",
       "      <th></th>\n",
       "      <th>Hero|Publisher</th>\n",
       "      <th>Gender</th>\n",
       "      <th>Race</th>\n",
       "      <th>Alignment</th>\n",
       "      <th>Hair color</th>\n",
       "      <th>Eye color</th>\n",
       "      <th>Skin color</th>\n",
       "      <th>Measurements</th>\n",
       "    </tr>\n",
       "  </thead>\n",
       "  <tbody>\n",
       "    <tr>\n",
       "      <th>0</th>\n",
       "      <td>A-Bomb|Marvel Comics</td>\n",
       "      <td>Male</td>\n",
       "      <td>Human</td>\n",
       "      <td>good</td>\n",
       "      <td>No Hair</td>\n",
       "      <td>yellow</td>\n",
       "      <td>Unknown</td>\n",
       "      <td>{'Height': '203.0 cm', 'Weight': '441.0 kg'}</td>\n",
       "    </tr>\n",
       "    <tr>\n",
       "      <th>1</th>\n",
       "      <td>Abe Sapien|Dark Horse Comics</td>\n",
       "      <td>Male</td>\n",
       "      <td>Icthyo Sapien</td>\n",
       "      <td>good</td>\n",
       "      <td>No Hair</td>\n",
       "      <td>blue</td>\n",
       "      <td>blue</td>\n",
       "      <td>{'Height': '191.0 cm', 'Weight': '65.0 kg'}</td>\n",
       "    </tr>\n",
       "    <tr>\n",
       "      <th>2</th>\n",
       "      <td>Abin Sur|DC Comics</td>\n",
       "      <td>Male</td>\n",
       "      <td>Ungaran</td>\n",
       "      <td>good</td>\n",
       "      <td>No Hair</td>\n",
       "      <td>blue</td>\n",
       "      <td>red</td>\n",
       "      <td>{'Height': '185.0 cm', 'Weight': '90.0 kg'}</td>\n",
       "    </tr>\n",
       "    <tr>\n",
       "      <th>3</th>\n",
       "      <td>Abomination|Marvel Comics</td>\n",
       "      <td>Male</td>\n",
       "      <td>Human / Radiation</td>\n",
       "      <td>bad</td>\n",
       "      <td>No Hair</td>\n",
       "      <td>green</td>\n",
       "      <td>Unknown</td>\n",
       "      <td>{'Height': '203.0 cm', 'Weight': '441.0 kg'}</td>\n",
       "    </tr>\n",
       "    <tr>\n",
       "      <th>4</th>\n",
       "      <td>Absorbing Man|Marvel Comics</td>\n",
       "      <td>Male</td>\n",
       "      <td>Human</td>\n",
       "      <td>bad</td>\n",
       "      <td>No Hair</td>\n",
       "      <td>blue</td>\n",
       "      <td>Unknown</td>\n",
       "      <td>{'Height': '193.0 cm', 'Weight': '122.0 kg'}</td>\n",
       "    </tr>\n",
       "  </tbody>\n",
       "</table>\n",
       "</div>"
      ],
      "text/plain": [
       "                 Hero|Publisher Gender               Race Alignment  \\\n",
       "0          A-Bomb|Marvel Comics   Male              Human      good   \n",
       "1  Abe Sapien|Dark Horse Comics   Male      Icthyo Sapien      good   \n",
       "2            Abin Sur|DC Comics   Male            Ungaran      good   \n",
       "3     Abomination|Marvel Comics   Male  Human / Radiation       bad   \n",
       "4   Absorbing Man|Marvel Comics   Male              Human       bad   \n",
       "\n",
       "  Hair color Eye color Skin color  \\\n",
       "0    No Hair    yellow    Unknown   \n",
       "1    No Hair      blue       blue   \n",
       "2    No Hair      blue        red   \n",
       "3    No Hair     green    Unknown   \n",
       "4    No Hair      blue    Unknown   \n",
       "\n",
       "                                   Measurements  \n",
       "0  {'Height': '203.0 cm', 'Weight': '441.0 kg'}  \n",
       "1   {'Height': '191.0 cm', 'Weight': '65.0 kg'}  \n",
       "2   {'Height': '185.0 cm', 'Weight': '90.0 kg'}  \n",
       "3  {'Height': '203.0 cm', 'Weight': '441.0 kg'}  \n",
       "4  {'Height': '193.0 cm', 'Weight': '122.0 kg'}  "
      ]
     },
     "metadata": {},
     "output_type": "display_data"
    },
    {
     "name": "stdout",
     "output_type": "stream",
     "text": [
      "<class 'pandas.core.frame.DataFrame'>\n",
      "RangeIndex: 463 entries, 0 to 462\n",
      "Data columns (total 8 columns):\n",
      " #   Column          Non-Null Count  Dtype \n",
      "---  ------          --------------  ----- \n",
      " 0   Hero|Publisher  463 non-null    object\n",
      " 1   Gender          463 non-null    object\n",
      " 2   Race            463 non-null    object\n",
      " 3   Alignment       463 non-null    object\n",
      " 4   Hair color      463 non-null    object\n",
      " 5   Eye color       463 non-null    object\n",
      " 6   Skin color      463 non-null    object\n",
      " 7   Measurements    463 non-null    object\n",
      "dtypes: object(8)\n",
      "memory usage: 29.1+ KB\n"
     ]
    },
    {
     "data": {
      "text/plain": [
       "None"
      ]
     },
     "metadata": {},
     "output_type": "display_data"
    },
    {
     "data": {
      "text/html": [
       "<div>\n",
       "<style scoped>\n",
       "    .dataframe tbody tr th:only-of-type {\n",
       "        vertical-align: middle;\n",
       "    }\n",
       "\n",
       "    .dataframe tbody tr th {\n",
       "        vertical-align: top;\n",
       "    }\n",
       "\n",
       "    .dataframe thead th {\n",
       "        text-align: right;\n",
       "    }\n",
       "</style>\n",
       "<table border=\"1\" class=\"dataframe\">\n",
       "  <thead>\n",
       "    <tr style=\"text-align: right;\">\n",
       "      <th></th>\n",
       "      <th>Hero|Publisher</th>\n",
       "      <th>Gender</th>\n",
       "      <th>Race</th>\n",
       "      <th>Alignment</th>\n",
       "      <th>Hair color</th>\n",
       "      <th>Eye color</th>\n",
       "      <th>Skin color</th>\n",
       "      <th>Measurements</th>\n",
       "    </tr>\n",
       "  </thead>\n",
       "  <tbody>\n",
       "    <tr>\n",
       "      <th>count</th>\n",
       "      <td>463</td>\n",
       "      <td>463</td>\n",
       "      <td>463</td>\n",
       "      <td>463</td>\n",
       "      <td>463</td>\n",
       "      <td>463</td>\n",
       "      <td>463</td>\n",
       "      <td>463</td>\n",
       "    </tr>\n",
       "    <tr>\n",
       "      <th>unique</th>\n",
       "      <td>457</td>\n",
       "      <td>3</td>\n",
       "      <td>52</td>\n",
       "      <td>4</td>\n",
       "      <td>29</td>\n",
       "      <td>21</td>\n",
       "      <td>14</td>\n",
       "      <td>287</td>\n",
       "    </tr>\n",
       "    <tr>\n",
       "      <th>top</th>\n",
       "      <td>Spider-Man|Marvel Comics</td>\n",
       "      <td>Male</td>\n",
       "      <td>Human</td>\n",
       "      <td>good</td>\n",
       "      <td>Black</td>\n",
       "      <td>blue</td>\n",
       "      <td>Unknown</td>\n",
       "      <td>{'Height': '183.0 cm', 'Weight': '90.0 kg'}</td>\n",
       "    </tr>\n",
       "    <tr>\n",
       "      <th>freq</th>\n",
       "      <td>3</td>\n",
       "      <td>321</td>\n",
       "      <td>156</td>\n",
       "      <td>311</td>\n",
       "      <td>127</td>\n",
       "      <td>182</td>\n",
       "      <td>409</td>\n",
       "      <td>6</td>\n",
       "    </tr>\n",
       "  </tbody>\n",
       "</table>\n",
       "</div>"
      ],
      "text/plain": [
       "                  Hero|Publisher Gender   Race Alignment Hair color Eye color  \\\n",
       "count                        463    463    463       463        463       463   \n",
       "unique                       457      3     52         4         29        21   \n",
       "top     Spider-Man|Marvel Comics   Male  Human      good      Black      blue   \n",
       "freq                           3    321    156       311        127       182   \n",
       "\n",
       "       Skin color                                 Measurements  \n",
       "count         463                                          463  \n",
       "unique         14                                          287  \n",
       "top       Unknown  {'Height': '183.0 cm', 'Weight': '90.0 kg'}  \n",
       "freq          409                                            6  "
      ]
     },
     "metadata": {},
     "output_type": "display_data"
    },
    {
     "data": {
      "text/plain": [
       "Index(['Hero|Publisher', 'Gender', 'Race', 'Alignment', 'Hair color',\n",
       "       'Eye color', 'Skin color', 'Measurements'],\n",
       "      dtype='object')"
      ]
     },
     "metadata": {},
     "output_type": "display_data"
    }
   ],
   "source": [
    "# viewing superhero info\n",
    "display(df_info.head())\n",
    "display(df_info.info(), df_info.describe(), df_info.columns)"
   ]
  },
  {
   "cell_type": "markdown",
   "id": "4ccfcea9",
   "metadata": {},
   "source": [
    "#### Viewing Superhero powers df"
   ]
  },
  {
   "cell_type": "code",
   "execution_count": 4,
   "id": "5dd82766",
   "metadata": {},
   "outputs": [
    {
     "data": {
      "text/html": [
       "<div>\n",
       "<style scoped>\n",
       "    .dataframe tbody tr th:only-of-type {\n",
       "        vertical-align: middle;\n",
       "    }\n",
       "\n",
       "    .dataframe tbody tr th {\n",
       "        vertical-align: top;\n",
       "    }\n",
       "\n",
       "    .dataframe thead th {\n",
       "        text-align: right;\n",
       "    }\n",
       "</style>\n",
       "<table border=\"1\" class=\"dataframe\">\n",
       "  <thead>\n",
       "    <tr style=\"text-align: right;\">\n",
       "      <th></th>\n",
       "      <th>hero_names</th>\n",
       "      <th>Powers</th>\n",
       "    </tr>\n",
       "  </thead>\n",
       "  <tbody>\n",
       "    <tr>\n",
       "      <th>0</th>\n",
       "      <td>3-D Man</td>\n",
       "      <td>Agility,Super Strength,Stamina,Super Speed</td>\n",
       "    </tr>\n",
       "    <tr>\n",
       "      <th>1</th>\n",
       "      <td>A-Bomb</td>\n",
       "      <td>Accelerated Healing,Durability,Longevity,Super...</td>\n",
       "    </tr>\n",
       "    <tr>\n",
       "      <th>2</th>\n",
       "      <td>Abe Sapien</td>\n",
       "      <td>Agility,Accelerated Healing,Cold Resistance,Du...</td>\n",
       "    </tr>\n",
       "    <tr>\n",
       "      <th>3</th>\n",
       "      <td>Abin Sur</td>\n",
       "      <td>Lantern Power Ring</td>\n",
       "    </tr>\n",
       "    <tr>\n",
       "      <th>4</th>\n",
       "      <td>Abomination</td>\n",
       "      <td>Accelerated Healing,Intelligence,Super Strengt...</td>\n",
       "    </tr>\n",
       "  </tbody>\n",
       "</table>\n",
       "</div>"
      ],
      "text/plain": [
       "    hero_names                                             Powers\n",
       "0      3-D Man         Agility,Super Strength,Stamina,Super Speed\n",
       "1       A-Bomb  Accelerated Healing,Durability,Longevity,Super...\n",
       "2   Abe Sapien  Agility,Accelerated Healing,Cold Resistance,Du...\n",
       "3     Abin Sur                                 Lantern Power Ring\n",
       "4  Abomination  Accelerated Healing,Intelligence,Super Strengt..."
      ]
     },
     "metadata": {},
     "output_type": "display_data"
    },
    {
     "name": "stdout",
     "output_type": "stream",
     "text": [
      "<class 'pandas.core.frame.DataFrame'>\n",
      "RangeIndex: 667 entries, 0 to 666\n",
      "Data columns (total 2 columns):\n",
      " #   Column      Non-Null Count  Dtype \n",
      "---  ------      --------------  ----- \n",
      " 0   hero_names  667 non-null    object\n",
      " 1   Powers      667 non-null    object\n",
      "dtypes: object(2)\n",
      "memory usage: 10.5+ KB\n"
     ]
    },
    {
     "data": {
      "text/plain": [
       "None"
      ]
     },
     "metadata": {},
     "output_type": "display_data"
    },
    {
     "data": {
      "text/html": [
       "<div>\n",
       "<style scoped>\n",
       "    .dataframe tbody tr th:only-of-type {\n",
       "        vertical-align: middle;\n",
       "    }\n",
       "\n",
       "    .dataframe tbody tr th {\n",
       "        vertical-align: top;\n",
       "    }\n",
       "\n",
       "    .dataframe thead th {\n",
       "        text-align: right;\n",
       "    }\n",
       "</style>\n",
       "<table border=\"1\" class=\"dataframe\">\n",
       "  <thead>\n",
       "    <tr style=\"text-align: right;\">\n",
       "      <th></th>\n",
       "      <th>hero_names</th>\n",
       "      <th>Powers</th>\n",
       "    </tr>\n",
       "  </thead>\n",
       "  <tbody>\n",
       "    <tr>\n",
       "      <th>count</th>\n",
       "      <td>667</td>\n",
       "      <td>667</td>\n",
       "    </tr>\n",
       "    <tr>\n",
       "      <th>unique</th>\n",
       "      <td>667</td>\n",
       "      <td>608</td>\n",
       "    </tr>\n",
       "    <tr>\n",
       "      <th>top</th>\n",
       "      <td>3-D Man</td>\n",
       "      <td>Intelligence</td>\n",
       "    </tr>\n",
       "    <tr>\n",
       "      <th>freq</th>\n",
       "      <td>1</td>\n",
       "      <td>8</td>\n",
       "    </tr>\n",
       "  </tbody>\n",
       "</table>\n",
       "</div>"
      ],
      "text/plain": [
       "       hero_names        Powers\n",
       "count         667           667\n",
       "unique        667           608\n",
       "top       3-D Man  Intelligence\n",
       "freq            1             8"
      ]
     },
     "metadata": {},
     "output_type": "display_data"
    },
    {
     "data": {
      "text/plain": [
       "Index(['hero_names', 'Powers'], dtype='object')"
      ]
     },
     "metadata": {},
     "output_type": "display_data"
    }
   ],
   "source": [
    "# viewing the data\n",
    "display(df_powers.head())\n",
    "display(df_powers.info(), df_powers.describe(), df_powers.columns)"
   ]
  },
  {
   "cell_type": "markdown",
   "id": "773d187e",
   "metadata": {},
   "source": [
    "<mark><u>**Comment:**\n",
    "\n",
    "* <font color='dodgerblue' size=4><i>\n",
    "We'll have to split the name/publisher and join with the other df on name here.  I'm going to do this first so I can consolidate into one df.\n",
    "* <font color='dodgerblue' size=4><i> \n",
    "We have a little over 200 more entries for the hero powers dataset than the primary dataset.  I think for our purposes it makes sense to drop any superheros present in the 'powers' dataset that we don't have other information on.  I might consider doing a outer join just to view what we're missing from each.\n",
    "<font color='dodgerblue' size=4>\n"
   ]
  },
  {
   "cell_type": "markdown",
   "id": "383a0b35",
   "metadata": {},
   "source": [
    "## Cleaning"
   ]
  },
  {
   "cell_type": "markdown",
   "id": "affa99ad",
   "metadata": {},
   "source": [
    "### Splitting name/publisher to two columns"
   ]
  },
  {
   "cell_type": "code",
   "execution_count": 5,
   "id": "5ac6d455",
   "metadata": {},
   "outputs": [
    {
     "data": {
      "text/html": [
       "<div>\n",
       "<style scoped>\n",
       "    .dataframe tbody tr th:only-of-type {\n",
       "        vertical-align: middle;\n",
       "    }\n",
       "\n",
       "    .dataframe tbody tr th {\n",
       "        vertical-align: top;\n",
       "    }\n",
       "\n",
       "    .dataframe thead th {\n",
       "        text-align: right;\n",
       "    }\n",
       "</style>\n",
       "<table border=\"1\" class=\"dataframe\">\n",
       "  <thead>\n",
       "    <tr style=\"text-align: right;\">\n",
       "      <th></th>\n",
       "      <th>name</th>\n",
       "      <th>publisher</th>\n",
       "      <th>Hero|Publisher</th>\n",
       "    </tr>\n",
       "  </thead>\n",
       "  <tbody>\n",
       "    <tr>\n",
       "      <th>0</th>\n",
       "      <td>A-Bomb</td>\n",
       "      <td>Marvel Comics</td>\n",
       "      <td>A-Bomb|Marvel Comics</td>\n",
       "    </tr>\n",
       "    <tr>\n",
       "      <th>1</th>\n",
       "      <td>Abe Sapien</td>\n",
       "      <td>Dark Horse Comics</td>\n",
       "      <td>Abe Sapien|Dark Horse Comics</td>\n",
       "    </tr>\n",
       "    <tr>\n",
       "      <th>2</th>\n",
       "      <td>Abin Sur</td>\n",
       "      <td>DC Comics</td>\n",
       "      <td>Abin Sur|DC Comics</td>\n",
       "    </tr>\n",
       "    <tr>\n",
       "      <th>3</th>\n",
       "      <td>Abomination</td>\n",
       "      <td>Marvel Comics</td>\n",
       "      <td>Abomination|Marvel Comics</td>\n",
       "    </tr>\n",
       "    <tr>\n",
       "      <th>4</th>\n",
       "      <td>Absorbing Man</td>\n",
       "      <td>Marvel Comics</td>\n",
       "      <td>Absorbing Man|Marvel Comics</td>\n",
       "    </tr>\n",
       "  </tbody>\n",
       "</table>\n",
       "</div>"
      ],
      "text/plain": [
       "            name          publisher                Hero|Publisher\n",
       "0         A-Bomb      Marvel Comics          A-Bomb|Marvel Comics\n",
       "1     Abe Sapien  Dark Horse Comics  Abe Sapien|Dark Horse Comics\n",
       "2       Abin Sur          DC Comics            Abin Sur|DC Comics\n",
       "3    Abomination      Marvel Comics     Abomination|Marvel Comics\n",
       "4  Absorbing Man      Marvel Comics   Absorbing Man|Marvel Comics"
      ]
     },
     "execution_count": 5,
     "metadata": {},
     "output_type": "execute_result"
    }
   ],
   "source": [
    "# making the new columns\n",
    "df_info[['name', 'publisher']] = df_info['Hero|Publisher'].str.split('|', expand=True)\n",
    "\n",
    "# confirmings\n",
    "df_info[['name', 'publisher', 'Hero|Publisher']].head()"
   ]
  },
  {
   "cell_type": "markdown",
   "id": "b381225f",
   "metadata": {},
   "source": [
    "<mark><u>**Comment:**</u>\n",
    "\n",
    "<font color='dodgerblue' size=4><i>\n",
    "Looks good, we can now drop the combined column ('Hero/Publisher')\n",
    "</i></font>"
   ]
  },
  {
   "cell_type": "code",
   "execution_count": 6,
   "id": "dcd3bc74",
   "metadata": {},
   "outputs": [
    {
     "data": {
      "text/plain": [
       "Index(['Gender', 'Race', 'Alignment', 'Hair color', 'Eye color', 'Skin color',\n",
       "       'Measurements', 'name', 'publisher'],\n",
       "      dtype='object')"
      ]
     },
     "execution_count": 6,
     "metadata": {},
     "output_type": "execute_result"
    }
   ],
   "source": [
    "# dropping 'Hero/Publisher column'\n",
    "df_info = df_info.drop(columns='Hero|Publisher').copy()\n",
    "\n",
    "# confirming\n",
    "df_info.columns"
   ]
  },
  {
   "cell_type": "markdown",
   "id": "4f3a9e04",
   "metadata": {},
   "source": [
    "### Joining Dataframes"
   ]
  },
  {
   "cell_type": "code",
   "execution_count": 7,
   "id": "74f54eb5",
   "metadata": {},
   "outputs": [],
   "source": [
    "# joining with a outer join to see where we are missing data from df_info\n",
    "df_all = df_info.merge(df_powers, left_on='name', right_on='hero_names', how='outer')"
   ]
  },
  {
   "cell_type": "code",
   "execution_count": 8,
   "id": "41a586fd",
   "metadata": {},
   "outputs": [
    {
     "data": {
      "text/html": [
       "<div>\n",
       "<style scoped>\n",
       "    .dataframe tbody tr th:only-of-type {\n",
       "        vertical-align: middle;\n",
       "    }\n",
       "\n",
       "    .dataframe tbody tr th {\n",
       "        vertical-align: top;\n",
       "    }\n",
       "\n",
       "    .dataframe thead th {\n",
       "        text-align: right;\n",
       "    }\n",
       "</style>\n",
       "<table border=\"1\" class=\"dataframe\">\n",
       "  <thead>\n",
       "    <tr style=\"text-align: right;\">\n",
       "      <th></th>\n",
       "      <th>Gender</th>\n",
       "      <th>Race</th>\n",
       "      <th>Alignment</th>\n",
       "      <th>Hair color</th>\n",
       "      <th>Eye color</th>\n",
       "      <th>Skin color</th>\n",
       "      <th>Measurements</th>\n",
       "      <th>name</th>\n",
       "      <th>publisher</th>\n",
       "      <th>hero_names</th>\n",
       "      <th>Powers</th>\n",
       "    </tr>\n",
       "  </thead>\n",
       "  <tbody>\n",
       "    <tr>\n",
       "      <th>545</th>\n",
       "      <td>NaN</td>\n",
       "      <td>NaN</td>\n",
       "      <td>NaN</td>\n",
       "      <td>NaN</td>\n",
       "      <td>NaN</td>\n",
       "      <td>NaN</td>\n",
       "      <td>NaN</td>\n",
       "      <td>NaN</td>\n",
       "      <td>NaN</td>\n",
       "      <td>Garbage Man</td>\n",
       "      <td>Accelerated Healing</td>\n",
       "    </tr>\n",
       "    <tr>\n",
       "      <th>538</th>\n",
       "      <td>NaN</td>\n",
       "      <td>NaN</td>\n",
       "      <td>NaN</td>\n",
       "      <td>NaN</td>\n",
       "      <td>NaN</td>\n",
       "      <td>NaN</td>\n",
       "      <td>NaN</td>\n",
       "      <td>NaN</td>\n",
       "      <td>NaN</td>\n",
       "      <td>Energy</td>\n",
       "      <td>Flight,Electrokinesis,Energy Manipulation</td>\n",
       "    </tr>\n",
       "    <tr>\n",
       "      <th>198</th>\n",
       "      <td>Female</td>\n",
       "      <td>Asgardian</td>\n",
       "      <td>bad</td>\n",
       "      <td>Black</td>\n",
       "      <td>green</td>\n",
       "      <td>Unknown</td>\n",
       "      <td>{'Height': '213.0 cm', 'Weight': '225.0 kg'}</td>\n",
       "      <td>Hela</td>\n",
       "      <td>Marvel Comics</td>\n",
       "      <td>Hela</td>\n",
       "      <td>Agility,Accelerated Healing,Durability,Longevi...</td>\n",
       "    </tr>\n",
       "    <tr>\n",
       "      <th>350</th>\n",
       "      <td>Male</td>\n",
       "      <td>Human</td>\n",
       "      <td>good</td>\n",
       "      <td>Red</td>\n",
       "      <td>blue</td>\n",
       "      <td>Unknown</td>\n",
       "      <td>{'Height': '168.0 cm', 'Weight': '63.0 kg'}</td>\n",
       "      <td>Rorschach</td>\n",
       "      <td>DC Comics</td>\n",
       "      <td>Rorschach</td>\n",
       "      <td>Agility,Stealth,Weapons Master,Intelligence,St...</td>\n",
       "    </tr>\n",
       "    <tr>\n",
       "      <th>577</th>\n",
       "      <td>NaN</td>\n",
       "      <td>NaN</td>\n",
       "      <td>NaN</td>\n",
       "      <td>NaN</td>\n",
       "      <td>NaN</td>\n",
       "      <td>NaN</td>\n",
       "      <td>NaN</td>\n",
       "      <td>NaN</td>\n",
       "      <td>NaN</td>\n",
       "      <td>Kid Flash</td>\n",
       "      <td>Accelerated Healing,Super Speed</td>\n",
       "    </tr>\n",
       "  </tbody>\n",
       "</table>\n",
       "</div>"
      ],
      "text/plain": [
       "     Gender       Race Alignment Hair color Eye color Skin color  \\\n",
       "545     NaN        NaN       NaN        NaN       NaN        NaN   \n",
       "538     NaN        NaN       NaN        NaN       NaN        NaN   \n",
       "198  Female  Asgardian       bad      Black     green    Unknown   \n",
       "350    Male      Human      good        Red      blue    Unknown   \n",
       "577     NaN        NaN       NaN        NaN       NaN        NaN   \n",
       "\n",
       "                                     Measurements       name      publisher  \\\n",
       "545                                           NaN        NaN            NaN   \n",
       "538                                           NaN        NaN            NaN   \n",
       "198  {'Height': '213.0 cm', 'Weight': '225.0 kg'}       Hela  Marvel Comics   \n",
       "350   {'Height': '168.0 cm', 'Weight': '63.0 kg'}  Rorschach      DC Comics   \n",
       "577                                           NaN        NaN            NaN   \n",
       "\n",
       "      hero_names                                             Powers  \n",
       "545  Garbage Man                                Accelerated Healing  \n",
       "538       Energy          Flight,Electrokinesis,Energy Manipulation  \n",
       "198         Hela  Agility,Accelerated Healing,Durability,Longevi...  \n",
       "350    Rorschach  Agility,Stealth,Weapons Master,Intelligence,St...  \n",
       "577    Kid Flash                    Accelerated Healing,Super Speed  "
      ]
     },
     "metadata": {},
     "output_type": "display_data"
    }
   ],
   "source": [
    "# viewing\n",
    "display(df_all.sample(5))"
   ]
  },
  {
   "cell_type": "markdown",
   "id": "effa5402",
   "metadata": {},
   "source": [
    "<mark><u>**Comment:**</u>\n",
    "\n",
    "<font color='dodgerblue' size=4><i>\n",
    "After reviewing the results of the full join in greater depth, it does not appear that we have dirty data that would result in superheros dropped which should be added to our final dataset.  There are simply superheros in the 'powers' dataset that do not appear in the 'info' set.  It makes sense to just do an inner join and lose the superheros for which we do not have information, especially considering that we are trying to answer a question regarding average weight.\n",
    "</i></font>"
   ]
  },
  {
   "cell_type": "code",
   "execution_count": 9,
   "id": "64f4a926",
   "metadata": {},
   "outputs": [],
   "source": [
    "# joining dfs\n",
    "df = df_info.merge(df_powers, left_on='name', right_on='hero_names')\n",
    "\n",
    "# making a copy for comparison if needed\n",
    "df_original = df.copy()"
   ]
  },
  {
   "cell_type": "code",
   "execution_count": 10,
   "id": "707f559c",
   "metadata": {},
   "outputs": [
    {
     "name": "stdout",
     "output_type": "stream",
     "text": [
      "<class 'pandas.core.frame.DataFrame'>\n",
      "Int64Index: 463 entries, 0 to 462\n",
      "Data columns (total 11 columns):\n",
      " #   Column        Non-Null Count  Dtype \n",
      "---  ------        --------------  ----- \n",
      " 0   Gender        463 non-null    object\n",
      " 1   Race          463 non-null    object\n",
      " 2   Alignment     463 non-null    object\n",
      " 3   Hair color    463 non-null    object\n",
      " 4   Eye color     463 non-null    object\n",
      " 5   Skin color    463 non-null    object\n",
      " 6   Measurements  463 non-null    object\n",
      " 7   name          463 non-null    object\n",
      " 8   publisher     463 non-null    object\n",
      " 9   hero_names    463 non-null    object\n",
      " 10  Powers        463 non-null    object\n",
      "dtypes: object(11)\n",
      "memory usage: 43.4+ KB\n"
     ]
    },
    {
     "data": {
      "text/plain": [
       "None"
      ]
     },
     "metadata": {},
     "output_type": "display_data"
    },
    {
     "data": {
      "text/html": [
       "<div>\n",
       "<style scoped>\n",
       "    .dataframe tbody tr th:only-of-type {\n",
       "        vertical-align: middle;\n",
       "    }\n",
       "\n",
       "    .dataframe tbody tr th {\n",
       "        vertical-align: top;\n",
       "    }\n",
       "\n",
       "    .dataframe thead th {\n",
       "        text-align: right;\n",
       "    }\n",
       "</style>\n",
       "<table border=\"1\" class=\"dataframe\">\n",
       "  <thead>\n",
       "    <tr style=\"text-align: right;\">\n",
       "      <th></th>\n",
       "      <th>Gender</th>\n",
       "      <th>Race</th>\n",
       "      <th>Alignment</th>\n",
       "      <th>Hair color</th>\n",
       "      <th>Eye color</th>\n",
       "      <th>Skin color</th>\n",
       "      <th>Measurements</th>\n",
       "      <th>name</th>\n",
       "      <th>publisher</th>\n",
       "      <th>hero_names</th>\n",
       "      <th>Powers</th>\n",
       "    </tr>\n",
       "  </thead>\n",
       "  <tbody>\n",
       "    <tr>\n",
       "      <th>426</th>\n",
       "      <td>Male</td>\n",
       "      <td>Inhuman</td>\n",
       "      <td>good</td>\n",
       "      <td>No Hair</td>\n",
       "      <td>green</td>\n",
       "      <td>green</td>\n",
       "      <td>{'Height': '188.0 cm', 'Weight': '86.0 kg'}</td>\n",
       "      <td>Triton</td>\n",
       "      <td>Marvel Comics</td>\n",
       "      <td>Triton</td>\n",
       "      <td>Agility,Cold Resistance,Durability,Underwater ...</td>\n",
       "    </tr>\n",
       "    <tr>\n",
       "      <th>310</th>\n",
       "      <td>Male</td>\n",
       "      <td>Unknown</td>\n",
       "      <td>good</td>\n",
       "      <td>Blond</td>\n",
       "      <td>blue</td>\n",
       "      <td>Unknown</td>\n",
       "      <td>{'Height': '183.0 cm', 'Weight': '89.0 kg'}</td>\n",
       "      <td>Penance II</td>\n",
       "      <td>Marvel Comics</td>\n",
       "      <td>Penance II</td>\n",
       "      <td>Energy Blasts</td>\n",
       "    </tr>\n",
       "    <tr>\n",
       "      <th>146</th>\n",
       "      <td>Female</td>\n",
       "      <td>Unknown</td>\n",
       "      <td>good</td>\n",
       "      <td>Blond</td>\n",
       "      <td>blue</td>\n",
       "      <td>Unknown</td>\n",
       "      <td>{'Height': '178.0 cm', 'Weight': '65.0 kg'}</td>\n",
       "      <td>Emma Frost</td>\n",
       "      <td>Marvel Comics</td>\n",
       "      <td>Emma Frost</td>\n",
       "      <td>Durability,Super Strength,Telepathy,Density Co...</td>\n",
       "    </tr>\n",
       "  </tbody>\n",
       "</table>\n",
       "</div>"
      ],
      "text/plain": [
       "     Gender     Race Alignment Hair color Eye color Skin color  \\\n",
       "426    Male  Inhuman      good    No Hair     green      green   \n",
       "310    Male  Unknown      good      Blond      blue    Unknown   \n",
       "146  Female  Unknown      good      Blond      blue    Unknown   \n",
       "\n",
       "                                    Measurements        name      publisher  \\\n",
       "426  {'Height': '188.0 cm', 'Weight': '86.0 kg'}      Triton  Marvel Comics   \n",
       "310  {'Height': '183.0 cm', 'Weight': '89.0 kg'}  Penance II  Marvel Comics   \n",
       "146  {'Height': '178.0 cm', 'Weight': '65.0 kg'}  Emma Frost  Marvel Comics   \n",
       "\n",
       "     hero_names                                             Powers  \n",
       "426      Triton  Agility,Cold Resistance,Durability,Underwater ...  \n",
       "310  Penance II                                      Energy Blasts  \n",
       "146  Emma Frost  Durability,Super Strength,Telepathy,Density Co...  "
      ]
     },
     "metadata": {},
     "output_type": "display_data"
    }
   ],
   "source": [
    "# viewing the new df\n",
    "display(df.info(), df.sample(3))"
   ]
  },
  {
   "cell_type": "markdown",
   "id": "2c353177",
   "metadata": {},
   "source": [
    "<mark><u>**Comment:**</u>\n",
    "\n",
    "<font color='dodgerblue' size=4><i>\n",
    "Our join looks good, we can now drop 'hero_names', as it's redundant.  We are now working with 463 heroes (the heroes that we have more extensive info on, from df_info dataframe) \n",
    "</i></font>"
   ]
  },
  {
   "cell_type": "code",
   "execution_count": 11,
   "id": "4d9ed877",
   "metadata": {},
   "outputs": [
    {
     "data": {
      "text/plain": [
       "Index(['Gender', 'Race', 'Alignment', 'Hair color', 'Eye color', 'Skin color',\n",
       "       'Measurements', 'name', 'publisher', 'Powers'],\n",
       "      dtype='object')"
      ]
     },
     "execution_count": 11,
     "metadata": {},
     "output_type": "execute_result"
    }
   ],
   "source": [
    "# dropping 'hero_names'\n",
    "df = df.drop(columns='hero_names').copy()\n",
    "\n",
    "# confirming\n",
    "df.columns"
   ]
  },
  {
   "cell_type": "markdown",
   "id": "b1ac6047",
   "metadata": {},
   "source": [
    "### Fixing Column Names"
   ]
  },
  {
   "cell_type": "code",
   "execution_count": 12,
   "id": "77931be6",
   "metadata": {},
   "outputs": [
    {
     "data": {
      "text/plain": [
       "Index(['gender', 'race', 'alignment', 'hair_color', 'eye_color', 'skin_color',\n",
       "       'measurements', 'name', 'publisher', 'powers'],\n",
       "      dtype='object')"
      ]
     },
     "execution_count": 12,
     "metadata": {},
     "output_type": "execute_result"
    }
   ],
   "source": [
    "# changing column names to snakecase\n",
    "df = df.rename(columns = lambda x: '_'.join(x.lower().split()))\n",
    "\n",
    "# confirming\n",
    "df.columns"
   ]
  },
  {
   "cell_type": "markdown",
   "id": "bbb1aa11",
   "metadata": {},
   "source": [
    "### Checking for Duplicates and Missing Values"
   ]
  },
  {
   "cell_type": "code",
   "execution_count": 13,
   "id": "094e46a6",
   "metadata": {},
   "outputs": [
    {
     "data": {
      "text/plain": [
       "0"
      ]
     },
     "execution_count": 13,
     "metadata": {},
     "output_type": "execute_result"
    }
   ],
   "source": [
    "# duplicate check\n",
    "df.duplicated().sum()"
   ]
  },
  {
   "cell_type": "code",
   "execution_count": 14,
   "id": "729d5947",
   "metadata": {},
   "outputs": [
    {
     "data": {
      "text/plain": [
       "0"
      ]
     },
     "execution_count": 14,
     "metadata": {},
     "output_type": "execute_result"
    }
   ],
   "source": [
    "df.isna().sum().sum()"
   ]
  },
  {
   "cell_type": "markdown",
   "id": "afdb0c6c",
   "metadata": {},
   "source": [
    "### Checking for incorrect values"
   ]
  },
  {
   "cell_type": "code",
   "execution_count": 15,
   "id": "d7f38dba",
   "metadata": {},
   "outputs": [
    {
     "name": "stdout",
     "output_type": "stream",
     "text": [
      "***GENDER ['Male' 'Female' 'Unknown']\n",
      "***ALIGNMENT ['good' 'bad' 'Unknown' 'neutral']\n",
      "***HAIR_COLOR ['No Hair' 'Blond' 'Brown' 'Unknown' 'White' 'Black' 'Purple' 'Orange'\n",
      " 'Pink' 'Red' 'Auburn' 'Strawberry Blond' 'black' 'Blue' 'Green' 'Magenta'\n",
      " 'Brown / White' 'blond' 'Silver' 'Red / Grey' 'Grey' 'Orange / White'\n",
      " 'Yellow' 'Brownn' 'Gold' 'Red / Orange' 'Indigo' 'Red / White'\n",
      " 'Black / Blue']\n",
      "***EYE_COLOR ['yellow' 'blue' 'green' 'brown' 'Unknown' 'red' 'violet' 'white' 'purple'\n",
      " 'black' 'silver' 'grey' 'yellow (without irises)' 'gold' 'blue / white'\n",
      " 'hazel' 'green / blue' 'white / red' 'indigo' 'amber' 'yellow / blue']\n",
      "***SKIN_COLOR ['Unknown' 'blue' 'red' 'black' 'grey' 'gold' 'green' 'white' 'pink'\n",
      " 'silver' 'yellow' 'purple' 'blue-white' 'orange']\n",
      "***PUBLISHER ['Marvel Comics' 'Dark Horse Comics' 'DC Comics' 'Team Epic TV'\n",
      " 'George Lucas' 'Shueisha' 'Star Trek' 'Unknown' 'Image Comics']\n"
     ]
    }
   ],
   "source": [
    "# checking for redundant or incorrect values\n",
    "for i in df.columns:\n",
    "    if df[i].nunique() <= 30:\n",
    "        print('***' + i.upper(), df[i].unique())"
   ]
  },
  {
   "cell_type": "markdown",
   "id": "4b35d9b7",
   "metadata": {},
   "source": [
    "<mark><u>**Comment:**</u>\n",
    "\n",
    "<font color='dodgerblue' size=4><i>\n",
    "I see no errors here, we have 'Unknown' values in our columns.  These may be equivalent to missing values in some cases, but may be legitimate in other cases (e.g. 'Unknown' alignment of hero, 'unknown' skin color due to costume).\n",
    "</i></font>"
   ]
  },
  {
   "cell_type": "markdown",
   "id": "12d32092",
   "metadata": {},
   "source": [
    "### Splitting 'measurements' into Height, Weight columns"
   ]
  },
  {
   "cell_type": "code",
   "execution_count": 16,
   "id": "be96fd5b",
   "metadata": {},
   "outputs": [
    {
     "data": {
      "text/html": [
       "<div>\n",
       "<style scoped>\n",
       "    .dataframe tbody tr th:only-of-type {\n",
       "        vertical-align: middle;\n",
       "    }\n",
       "\n",
       "    .dataframe tbody tr th {\n",
       "        vertical-align: top;\n",
       "    }\n",
       "\n",
       "    .dataframe thead th {\n",
       "        text-align: right;\n",
       "    }\n",
       "</style>\n",
       "<table border=\"1\" class=\"dataframe\">\n",
       "  <thead>\n",
       "    <tr style=\"text-align: right;\">\n",
       "      <th></th>\n",
       "      <th>gender</th>\n",
       "      <th>race</th>\n",
       "      <th>alignment</th>\n",
       "      <th>hair_color</th>\n",
       "      <th>eye_color</th>\n",
       "      <th>skin_color</th>\n",
       "      <th>measurements</th>\n",
       "      <th>name</th>\n",
       "      <th>publisher</th>\n",
       "      <th>powers</th>\n",
       "    </tr>\n",
       "  </thead>\n",
       "  <tbody>\n",
       "    <tr>\n",
       "      <th>0</th>\n",
       "      <td>Male</td>\n",
       "      <td>Human</td>\n",
       "      <td>good</td>\n",
       "      <td>No Hair</td>\n",
       "      <td>yellow</td>\n",
       "      <td>Unknown</td>\n",
       "      <td>{'Height': '203.0 cm', 'Weight': '441.0 kg'}</td>\n",
       "      <td>A-Bomb</td>\n",
       "      <td>Marvel Comics</td>\n",
       "      <td>Accelerated Healing,Durability,Longevity,Super...</td>\n",
       "    </tr>\n",
       "    <tr>\n",
       "      <th>1</th>\n",
       "      <td>Male</td>\n",
       "      <td>Icthyo Sapien</td>\n",
       "      <td>good</td>\n",
       "      <td>No Hair</td>\n",
       "      <td>blue</td>\n",
       "      <td>blue</td>\n",
       "      <td>{'Height': '191.0 cm', 'Weight': '65.0 kg'}</td>\n",
       "      <td>Abe Sapien</td>\n",
       "      <td>Dark Horse Comics</td>\n",
       "      <td>Agility,Accelerated Healing,Cold Resistance,Du...</td>\n",
       "    </tr>\n",
       "    <tr>\n",
       "      <th>2</th>\n",
       "      <td>Male</td>\n",
       "      <td>Ungaran</td>\n",
       "      <td>good</td>\n",
       "      <td>No Hair</td>\n",
       "      <td>blue</td>\n",
       "      <td>red</td>\n",
       "      <td>{'Height': '185.0 cm', 'Weight': '90.0 kg'}</td>\n",
       "      <td>Abin Sur</td>\n",
       "      <td>DC Comics</td>\n",
       "      <td>Lantern Power Ring</td>\n",
       "    </tr>\n",
       "    <tr>\n",
       "      <th>3</th>\n",
       "      <td>Male</td>\n",
       "      <td>Human / Radiation</td>\n",
       "      <td>bad</td>\n",
       "      <td>No Hair</td>\n",
       "      <td>green</td>\n",
       "      <td>Unknown</td>\n",
       "      <td>{'Height': '203.0 cm', 'Weight': '441.0 kg'}</td>\n",
       "      <td>Abomination</td>\n",
       "      <td>Marvel Comics</td>\n",
       "      <td>Accelerated Healing,Intelligence,Super Strengt...</td>\n",
       "    </tr>\n",
       "    <tr>\n",
       "      <th>4</th>\n",
       "      <td>Male</td>\n",
       "      <td>Human</td>\n",
       "      <td>bad</td>\n",
       "      <td>No Hair</td>\n",
       "      <td>blue</td>\n",
       "      <td>Unknown</td>\n",
       "      <td>{'Height': '193.0 cm', 'Weight': '122.0 kg'}</td>\n",
       "      <td>Absorbing Man</td>\n",
       "      <td>Marvel Comics</td>\n",
       "      <td>Cold Resistance,Durability,Energy Absorption,S...</td>\n",
       "    </tr>\n",
       "  </tbody>\n",
       "</table>\n",
       "</div>"
      ],
      "text/plain": [
       "  gender               race alignment hair_color eye_color skin_color  \\\n",
       "0   Male              Human      good    No Hair    yellow    Unknown   \n",
       "1   Male      Icthyo Sapien      good    No Hair      blue       blue   \n",
       "2   Male            Ungaran      good    No Hair      blue        red   \n",
       "3   Male  Human / Radiation       bad    No Hair     green    Unknown   \n",
       "4   Male              Human       bad    No Hair      blue    Unknown   \n",
       "\n",
       "                                   measurements           name  \\\n",
       "0  {'Height': '203.0 cm', 'Weight': '441.0 kg'}         A-Bomb   \n",
       "1   {'Height': '191.0 cm', 'Weight': '65.0 kg'}     Abe Sapien   \n",
       "2   {'Height': '185.0 cm', 'Weight': '90.0 kg'}       Abin Sur   \n",
       "3  {'Height': '203.0 cm', 'Weight': '441.0 kg'}    Abomination   \n",
       "4  {'Height': '193.0 cm', 'Weight': '122.0 kg'}  Absorbing Man   \n",
       "\n",
       "           publisher                                             powers  \n",
       "0      Marvel Comics  Accelerated Healing,Durability,Longevity,Super...  \n",
       "1  Dark Horse Comics  Agility,Accelerated Healing,Cold Resistance,Du...  \n",
       "2          DC Comics                                 Lantern Power Ring  \n",
       "3      Marvel Comics  Accelerated Healing,Intelligence,Super Strengt...  \n",
       "4      Marvel Comics  Cold Resistance,Durability,Energy Absorption,S...  "
      ]
     },
     "execution_count": 16,
     "metadata": {},
     "output_type": "execute_result"
    }
   ],
   "source": [
    "df.head()"
   ]
  },
  {
   "cell_type": "code",
   "execution_count": 17,
   "id": "2dea2cfc",
   "metadata": {},
   "outputs": [
    {
     "data": {
      "text/plain": [
       "dtype('O')"
      ]
     },
     "execution_count": 17,
     "metadata": {},
     "output_type": "execute_result"
    }
   ],
   "source": [
    "df['measurements'].dtype"
   ]
  },
  {
   "cell_type": "markdown",
   "id": "c48e4a4a",
   "metadata": {},
   "source": [
    "<mark><u>**Comment:**</u>\n",
    "\n",
    "<font color='dodgerblue' size=4><i>\n",
    "We have a column of dictionaries as strings, we'll convert them into dictionaries first, then separate the two measurements into distinct columns\n",
    "</i></font>"
   ]
  },
  {
   "cell_type": "code",
   "execution_count": 18,
   "id": "1ed69d93",
   "metadata": {},
   "outputs": [],
   "source": [
    "# changing the single quotes to double for the json loads function\n",
    "df['measurements'] = df['measurements'].str.replace(\"'\", '\"')\n",
    "\n",
    "# changing string to dict\n",
    "df['measurements'] = df['measurements'].apply(json.loads)"
   ]
  },
  {
   "cell_type": "code",
   "execution_count": 19,
   "id": "4e8a7048",
   "metadata": {},
   "outputs": [
    {
     "data": {
      "text/plain": [
       "dict"
      ]
     },
     "execution_count": 19,
     "metadata": {},
     "output_type": "execute_result"
    }
   ],
   "source": [
    "# confirming\n",
    "type(df.loc[0,'measurements'])"
   ]
  },
  {
   "cell_type": "code",
   "execution_count": 20,
   "id": "57e63668",
   "metadata": {},
   "outputs": [
    {
     "data": {
      "text/html": [
       "<div>\n",
       "<style scoped>\n",
       "    .dataframe tbody tr th:only-of-type {\n",
       "        vertical-align: middle;\n",
       "    }\n",
       "\n",
       "    .dataframe tbody tr th {\n",
       "        vertical-align: top;\n",
       "    }\n",
       "\n",
       "    .dataframe thead th {\n",
       "        text-align: right;\n",
       "    }\n",
       "</style>\n",
       "<table border=\"1\" class=\"dataframe\">\n",
       "  <thead>\n",
       "    <tr style=\"text-align: right;\">\n",
       "      <th></th>\n",
       "      <th>Height</th>\n",
       "      <th>Weight</th>\n",
       "    </tr>\n",
       "  </thead>\n",
       "  <tbody>\n",
       "    <tr>\n",
       "      <th>0</th>\n",
       "      <td>203.0 cm</td>\n",
       "      <td>441.0 kg</td>\n",
       "    </tr>\n",
       "    <tr>\n",
       "      <th>1</th>\n",
       "      <td>191.0 cm</td>\n",
       "      <td>65.0 kg</td>\n",
       "    </tr>\n",
       "    <tr>\n",
       "      <th>2</th>\n",
       "      <td>185.0 cm</td>\n",
       "      <td>90.0 kg</td>\n",
       "    </tr>\n",
       "    <tr>\n",
       "      <th>3</th>\n",
       "      <td>203.0 cm</td>\n",
       "      <td>441.0 kg</td>\n",
       "    </tr>\n",
       "    <tr>\n",
       "      <th>4</th>\n",
       "      <td>193.0 cm</td>\n",
       "      <td>122.0 kg</td>\n",
       "    </tr>\n",
       "  </tbody>\n",
       "</table>\n",
       "</div>"
      ],
      "text/plain": [
       "     Height    Weight\n",
       "0  203.0 cm  441.0 kg\n",
       "1  191.0 cm   65.0 kg\n",
       "2  185.0 cm   90.0 kg\n",
       "3  203.0 cm  441.0 kg\n",
       "4  193.0 cm  122.0 kg"
      ]
     },
     "execution_count": 20,
     "metadata": {},
     "output_type": "execute_result"
    }
   ],
   "source": [
    "# splitting 'measurements' into two columns\n",
    "height_weight = df['measurements'].apply(pd.Series)\n",
    "height_weight.head()"
   ]
  },
  {
   "cell_type": "code",
   "execution_count": 21,
   "id": "08140118",
   "metadata": {},
   "outputs": [],
   "source": [
    "# pasting columns back on to the original dataframe\n",
    "df = pd.concat((df, height_weight), axis=1)"
   ]
  },
  {
   "cell_type": "code",
   "execution_count": 22,
   "id": "5a07e642",
   "metadata": {},
   "outputs": [],
   "source": [
    "# renaming columns\n",
    "df = df.rename(columns={'Height': 'height_cm', 'Weight': 'weight_kg'})\n",
    "\n",
    "# dropping 'measurements' since it's now redundant\n",
    "df = df.drop(columns='measurements').copy()"
   ]
  },
  {
   "cell_type": "code",
   "execution_count": 23,
   "id": "266d96d4",
   "metadata": {},
   "outputs": [],
   "source": [
    "# removing the units from 'weight' and 'height' and expresssing them as floats\n",
    "df['height_cm'] = df['height_cm'].apply(lambda x: x.split()[0]).astype(float)\n",
    "df['weight_kg'] = df['weight_kg'].apply(lambda x: x.split()[0]).astype(float)"
   ]
  },
  {
   "cell_type": "code",
   "execution_count": 24,
   "id": "65ef2c58",
   "metadata": {},
   "outputs": [
    {
     "data": {
      "text/plain": [
       "gender         object\n",
       "race           object\n",
       "alignment      object\n",
       "hair_color     object\n",
       "eye_color      object\n",
       "skin_color     object\n",
       "name           object\n",
       "publisher      object\n",
       "powers         object\n",
       "height_cm     float64\n",
       "weight_kg     float64\n",
       "dtype: object"
      ]
     },
     "metadata": {},
     "output_type": "display_data"
    },
    {
     "data": {
      "text/html": [
       "<div>\n",
       "<style scoped>\n",
       "    .dataframe tbody tr th:only-of-type {\n",
       "        vertical-align: middle;\n",
       "    }\n",
       "\n",
       "    .dataframe tbody tr th {\n",
       "        vertical-align: top;\n",
       "    }\n",
       "\n",
       "    .dataframe thead th {\n",
       "        text-align: right;\n",
       "    }\n",
       "</style>\n",
       "<table border=\"1\" class=\"dataframe\">\n",
       "  <thead>\n",
       "    <tr style=\"text-align: right;\">\n",
       "      <th></th>\n",
       "      <th>gender</th>\n",
       "      <th>race</th>\n",
       "      <th>alignment</th>\n",
       "      <th>hair_color</th>\n",
       "      <th>eye_color</th>\n",
       "      <th>skin_color</th>\n",
       "      <th>name</th>\n",
       "      <th>publisher</th>\n",
       "      <th>powers</th>\n",
       "      <th>height_cm</th>\n",
       "      <th>weight_kg</th>\n",
       "    </tr>\n",
       "  </thead>\n",
       "  <tbody>\n",
       "    <tr>\n",
       "      <th>0</th>\n",
       "      <td>Male</td>\n",
       "      <td>Human</td>\n",
       "      <td>good</td>\n",
       "      <td>No Hair</td>\n",
       "      <td>yellow</td>\n",
       "      <td>Unknown</td>\n",
       "      <td>A-Bomb</td>\n",
       "      <td>Marvel Comics</td>\n",
       "      <td>Accelerated Healing,Durability,Longevity,Super...</td>\n",
       "      <td>203.0</td>\n",
       "      <td>441.0</td>\n",
       "    </tr>\n",
       "    <tr>\n",
       "      <th>1</th>\n",
       "      <td>Male</td>\n",
       "      <td>Icthyo Sapien</td>\n",
       "      <td>good</td>\n",
       "      <td>No Hair</td>\n",
       "      <td>blue</td>\n",
       "      <td>blue</td>\n",
       "      <td>Abe Sapien</td>\n",
       "      <td>Dark Horse Comics</td>\n",
       "      <td>Agility,Accelerated Healing,Cold Resistance,Du...</td>\n",
       "      <td>191.0</td>\n",
       "      <td>65.0</td>\n",
       "    </tr>\n",
       "    <tr>\n",
       "      <th>2</th>\n",
       "      <td>Male</td>\n",
       "      <td>Ungaran</td>\n",
       "      <td>good</td>\n",
       "      <td>No Hair</td>\n",
       "      <td>blue</td>\n",
       "      <td>red</td>\n",
       "      <td>Abin Sur</td>\n",
       "      <td>DC Comics</td>\n",
       "      <td>Lantern Power Ring</td>\n",
       "      <td>185.0</td>\n",
       "      <td>90.0</td>\n",
       "    </tr>\n",
       "    <tr>\n",
       "      <th>3</th>\n",
       "      <td>Male</td>\n",
       "      <td>Human / Radiation</td>\n",
       "      <td>bad</td>\n",
       "      <td>No Hair</td>\n",
       "      <td>green</td>\n",
       "      <td>Unknown</td>\n",
       "      <td>Abomination</td>\n",
       "      <td>Marvel Comics</td>\n",
       "      <td>Accelerated Healing,Intelligence,Super Strengt...</td>\n",
       "      <td>203.0</td>\n",
       "      <td>441.0</td>\n",
       "    </tr>\n",
       "    <tr>\n",
       "      <th>4</th>\n",
       "      <td>Male</td>\n",
       "      <td>Human</td>\n",
       "      <td>bad</td>\n",
       "      <td>No Hair</td>\n",
       "      <td>blue</td>\n",
       "      <td>Unknown</td>\n",
       "      <td>Absorbing Man</td>\n",
       "      <td>Marvel Comics</td>\n",
       "      <td>Cold Resistance,Durability,Energy Absorption,S...</td>\n",
       "      <td>193.0</td>\n",
       "      <td>122.0</td>\n",
       "    </tr>\n",
       "  </tbody>\n",
       "</table>\n",
       "</div>"
      ],
      "text/plain": [
       "  gender               race alignment hair_color eye_color skin_color  \\\n",
       "0   Male              Human      good    No Hair    yellow    Unknown   \n",
       "1   Male      Icthyo Sapien      good    No Hair      blue       blue   \n",
       "2   Male            Ungaran      good    No Hair      blue        red   \n",
       "3   Male  Human / Radiation       bad    No Hair     green    Unknown   \n",
       "4   Male              Human       bad    No Hair      blue    Unknown   \n",
       "\n",
       "            name          publisher  \\\n",
       "0         A-Bomb      Marvel Comics   \n",
       "1     Abe Sapien  Dark Horse Comics   \n",
       "2       Abin Sur          DC Comics   \n",
       "3    Abomination      Marvel Comics   \n",
       "4  Absorbing Man      Marvel Comics   \n",
       "\n",
       "                                              powers  height_cm  weight_kg  \n",
       "0  Accelerated Healing,Durability,Longevity,Super...      203.0      441.0  \n",
       "1  Agility,Accelerated Healing,Cold Resistance,Du...      191.0       65.0  \n",
       "2                                 Lantern Power Ring      185.0       90.0  \n",
       "3  Accelerated Healing,Intelligence,Super Strengt...      203.0      441.0  \n",
       "4  Cold Resistance,Durability,Energy Absorption,S...      193.0      122.0  "
      ]
     },
     "metadata": {},
     "output_type": "display_data"
    }
   ],
   "source": [
    "# confirming all changes\n",
    "display(df.dtypes, df.head())"
   ]
  },
  {
   "cell_type": "markdown",
   "id": "00e6dad5",
   "metadata": {},
   "source": [
    "<mark><u>**Comment:**</u>\n",
    "\n",
    "<font color='dodgerblue' size=4><i>\n",
    "All looks good!  I'm going to reorder the columns a little to an order that I think makes more sense\n",
    "</i></font>"
   ]
  },
  {
   "cell_type": "code",
   "execution_count": 25,
   "id": "093c9af5",
   "metadata": {},
   "outputs": [
    {
     "data": {
      "text/plain": [
       "Index(['gender', 'race', 'alignment', 'hair_color', 'eye_color', 'skin_color',\n",
       "       'name', 'publisher', 'powers', 'height_cm', 'weight_kg'],\n",
       "      dtype='object')"
      ]
     },
     "execution_count": 25,
     "metadata": {},
     "output_type": "execute_result"
    }
   ],
   "source": [
    "df.columns"
   ]
  },
  {
   "cell_type": "code",
   "execution_count": 26,
   "id": "6deb560a",
   "metadata": {},
   "outputs": [
    {
     "data": {
      "text/html": [
       "<div>\n",
       "<style scoped>\n",
       "    .dataframe tbody tr th:only-of-type {\n",
       "        vertical-align: middle;\n",
       "    }\n",
       "\n",
       "    .dataframe tbody tr th {\n",
       "        vertical-align: top;\n",
       "    }\n",
       "\n",
       "    .dataframe thead th {\n",
       "        text-align: right;\n",
       "    }\n",
       "</style>\n",
       "<table border=\"1\" class=\"dataframe\">\n",
       "  <thead>\n",
       "    <tr style=\"text-align: right;\">\n",
       "      <th></th>\n",
       "      <th>name</th>\n",
       "      <th>race</th>\n",
       "      <th>gender</th>\n",
       "      <th>height_cm</th>\n",
       "      <th>weight_kg</th>\n",
       "      <th>alignment</th>\n",
       "      <th>hair_color</th>\n",
       "      <th>eye_color</th>\n",
       "      <th>skin_color</th>\n",
       "      <th>publisher</th>\n",
       "      <th>powers</th>\n",
       "    </tr>\n",
       "  </thead>\n",
       "  <tbody>\n",
       "    <tr>\n",
       "      <th>0</th>\n",
       "      <td>A-Bomb</td>\n",
       "      <td>Human</td>\n",
       "      <td>Male</td>\n",
       "      <td>203.0</td>\n",
       "      <td>441.0</td>\n",
       "      <td>good</td>\n",
       "      <td>No Hair</td>\n",
       "      <td>yellow</td>\n",
       "      <td>Unknown</td>\n",
       "      <td>Marvel Comics</td>\n",
       "      <td>Accelerated Healing,Durability,Longevity,Super...</td>\n",
       "    </tr>\n",
       "    <tr>\n",
       "      <th>1</th>\n",
       "      <td>Abe Sapien</td>\n",
       "      <td>Icthyo Sapien</td>\n",
       "      <td>Male</td>\n",
       "      <td>191.0</td>\n",
       "      <td>65.0</td>\n",
       "      <td>good</td>\n",
       "      <td>No Hair</td>\n",
       "      <td>blue</td>\n",
       "      <td>blue</td>\n",
       "      <td>Dark Horse Comics</td>\n",
       "      <td>Agility,Accelerated Healing,Cold Resistance,Du...</td>\n",
       "    </tr>\n",
       "  </tbody>\n",
       "</table>\n",
       "</div>"
      ],
      "text/plain": [
       "         name           race gender  height_cm  weight_kg alignment  \\\n",
       "0      A-Bomb          Human   Male      203.0      441.0      good   \n",
       "1  Abe Sapien  Icthyo Sapien   Male      191.0       65.0      good   \n",
       "\n",
       "  hair_color eye_color skin_color          publisher  \\\n",
       "0    No Hair    yellow    Unknown      Marvel Comics   \n",
       "1    No Hair      blue       blue  Dark Horse Comics   \n",
       "\n",
       "                                              powers  \n",
       "0  Accelerated Healing,Durability,Longevity,Super...  \n",
       "1  Agility,Accelerated Healing,Cold Resistance,Du...  "
      ]
     },
     "execution_count": 26,
     "metadata": {},
     "output_type": "execute_result"
    }
   ],
   "source": [
    "# reordering columns\n",
    "df = df[['name', 'race', 'gender', 'height_cm', 'weight_kg', 'alignment', \n",
    "        'hair_color', 'eye_color', 'skin_color', 'publisher', 'powers']].copy()\n",
    "\n",
    "# confirming\n",
    "df.head(2)"
   ]
  },
  {
   "cell_type": "markdown",
   "id": "6d37cefc",
   "metadata": {},
   "source": [
    "<mark><u>**Comment:**</u>\n",
    "\n",
    "<font color='dodgerblue' size=4><i>\n",
    "Everything looks good here, we may be able to snap the 'height' and 'weight' to int, but I'm going to leave them as floats because I think that makes more sense, considering the continuous nature of these two measurements.\n",
    "</i></font>"
   ]
  },
  {
   "cell_type": "markdown",
   "id": "77cfe33f",
   "metadata": {},
   "source": [
    "### Turning 'powers' into One Hot Encoded columns"
   ]
  },
  {
   "cell_type": "code",
   "execution_count": 27,
   "id": "1e07dc26",
   "metadata": {},
   "outputs": [],
   "source": [
    "# turning the string values into a list for each entry\n",
    "df['powers'] = df['powers'].str.split(',')"
   ]
  },
  {
   "cell_type": "code",
   "execution_count": 28,
   "id": "5c844035",
   "metadata": {},
   "outputs": [
    {
     "data": {
      "text/html": [
       "<div>\n",
       "<style scoped>\n",
       "    .dataframe tbody tr th:only-of-type {\n",
       "        vertical-align: middle;\n",
       "    }\n",
       "\n",
       "    .dataframe tbody tr th {\n",
       "        vertical-align: top;\n",
       "    }\n",
       "\n",
       "    .dataframe thead th {\n",
       "        text-align: right;\n",
       "    }\n",
       "</style>\n",
       "<table border=\"1\" class=\"dataframe\">\n",
       "  <thead>\n",
       "    <tr style=\"text-align: right;\">\n",
       "      <th></th>\n",
       "      <th>name</th>\n",
       "      <th>race</th>\n",
       "      <th>gender</th>\n",
       "      <th>height_cm</th>\n",
       "      <th>weight_kg</th>\n",
       "      <th>alignment</th>\n",
       "      <th>hair_color</th>\n",
       "      <th>eye_color</th>\n",
       "      <th>skin_color</th>\n",
       "      <th>publisher</th>\n",
       "      <th>powers</th>\n",
       "    </tr>\n",
       "  </thead>\n",
       "  <tbody>\n",
       "    <tr>\n",
       "      <th>0</th>\n",
       "      <td>A-Bomb</td>\n",
       "      <td>Human</td>\n",
       "      <td>Male</td>\n",
       "      <td>203.0</td>\n",
       "      <td>441.0</td>\n",
       "      <td>good</td>\n",
       "      <td>No Hair</td>\n",
       "      <td>yellow</td>\n",
       "      <td>Unknown</td>\n",
       "      <td>Marvel Comics</td>\n",
       "      <td>Accelerated Healing</td>\n",
       "    </tr>\n",
       "    <tr>\n",
       "      <th>0</th>\n",
       "      <td>A-Bomb</td>\n",
       "      <td>Human</td>\n",
       "      <td>Male</td>\n",
       "      <td>203.0</td>\n",
       "      <td>441.0</td>\n",
       "      <td>good</td>\n",
       "      <td>No Hair</td>\n",
       "      <td>yellow</td>\n",
       "      <td>Unknown</td>\n",
       "      <td>Marvel Comics</td>\n",
       "      <td>Durability</td>\n",
       "    </tr>\n",
       "    <tr>\n",
       "      <th>0</th>\n",
       "      <td>A-Bomb</td>\n",
       "      <td>Human</td>\n",
       "      <td>Male</td>\n",
       "      <td>203.0</td>\n",
       "      <td>441.0</td>\n",
       "      <td>good</td>\n",
       "      <td>No Hair</td>\n",
       "      <td>yellow</td>\n",
       "      <td>Unknown</td>\n",
       "      <td>Marvel Comics</td>\n",
       "      <td>Longevity</td>\n",
       "    </tr>\n",
       "    <tr>\n",
       "      <th>0</th>\n",
       "      <td>A-Bomb</td>\n",
       "      <td>Human</td>\n",
       "      <td>Male</td>\n",
       "      <td>203.0</td>\n",
       "      <td>441.0</td>\n",
       "      <td>good</td>\n",
       "      <td>No Hair</td>\n",
       "      <td>yellow</td>\n",
       "      <td>Unknown</td>\n",
       "      <td>Marvel Comics</td>\n",
       "      <td>Super Strength</td>\n",
       "    </tr>\n",
       "    <tr>\n",
       "      <th>0</th>\n",
       "      <td>A-Bomb</td>\n",
       "      <td>Human</td>\n",
       "      <td>Male</td>\n",
       "      <td>203.0</td>\n",
       "      <td>441.0</td>\n",
       "      <td>good</td>\n",
       "      <td>No Hair</td>\n",
       "      <td>yellow</td>\n",
       "      <td>Unknown</td>\n",
       "      <td>Marvel Comics</td>\n",
       "      <td>Stamina</td>\n",
       "    </tr>\n",
       "  </tbody>\n",
       "</table>\n",
       "</div>"
      ],
      "text/plain": [
       "     name   race gender  height_cm  weight_kg alignment hair_color eye_color  \\\n",
       "0  A-Bomb  Human   Male      203.0      441.0      good    No Hair    yellow   \n",
       "0  A-Bomb  Human   Male      203.0      441.0      good    No Hair    yellow   \n",
       "0  A-Bomb  Human   Male      203.0      441.0      good    No Hair    yellow   \n",
       "0  A-Bomb  Human   Male      203.0      441.0      good    No Hair    yellow   \n",
       "0  A-Bomb  Human   Male      203.0      441.0      good    No Hair    yellow   \n",
       "\n",
       "  skin_color      publisher               powers  \n",
       "0    Unknown  Marvel Comics  Accelerated Healing  \n",
       "0    Unknown  Marvel Comics           Durability  \n",
       "0    Unknown  Marvel Comics            Longevity  \n",
       "0    Unknown  Marvel Comics       Super Strength  \n",
       "0    Unknown  Marvel Comics              Stamina  "
      ]
     },
     "execution_count": 28,
     "metadata": {},
     "output_type": "execute_result"
    }
   ],
   "source": [
    "# creating a df with 'powers' column exploded\n",
    "powers_exploded = df.explode('powers')\n",
    "\n",
    "# confirming\n",
    "powers_exploded.head()"
   ]
  },
  {
   "cell_type": "code",
   "execution_count": 29,
   "id": "f7c609fc",
   "metadata": {},
   "outputs": [
    {
     "data": {
      "text/plain": [
       "array(['Accelerated Healing', 'Durability', 'Longevity', 'Super Strength',\n",
       "       'Stamina', 'Camouflage', 'Self-Sustenance', 'Agility',\n",
       "       'Cold Resistance', 'Underwater breathing', 'Marksmanship',\n",
       "       'Weapons Master', 'Intelligence', 'Telepathy', 'Immortality',\n",
       "       'Reflexes', 'Enhanced Sight', 'Sub-Mariner', 'Lantern Power Ring',\n",
       "       'Super Speed', 'Invulnerability', 'Animation', 'Super Breath',\n",
       "       'Energy Absorption', 'Elemental Transmogrification',\n",
       "       'Fire Resistance', 'Natural Armor', 'Molecular Manipulation',\n",
       "       'Heat Resistance', 'Matter Absorption', 'Stealth', 'Flight',\n",
       "       'Power Suit', 'Energy Blasts', 'Energy Beams', 'Power Cosmic',\n",
       "       'Heat Generation', 'Danger Sense', 'Teleportation', 'Phasing',\n",
       "       'Force Fields', 'Hypnokinesis', 'Energy Manipulation',\n",
       "       'Invisibility', 'Enhanced Senses', 'Jump', 'Substance Secretion',\n",
       "       'Natural Weapons', 'Wallcrawling', 'Vision - Thermal',\n",
       "       'Power Augmentation', 'Cryokinesis', 'Duplication',\n",
       "       'Size Changing', 'Weapon-based Powers', 'Shapeshifting',\n",
       "       'Fire Control', 'Enhanced Memory', 'Energy Constructs',\n",
       "       'Power Absorption', 'Enhanced Hearing', 'Time Travel',\n",
       "       'Enhanced Smell', 'Water Control', 'Vision - Telescopic',\n",
       "       'Magnetism', 'Vision - Microscopic', 'Vision - Night',\n",
       "       'Vision - Heat', 'Vision - X-Ray', 'Magic', 'Psionic Powers',\n",
       "       'Gliding', 'Toxin and Disease Resistance', 'Animal Attributes',\n",
       "       'Animal Oriented Powers', 'Regeneration',\n",
       "       'Toxin and Disease Control', 'Empathy', 'Animal Control',\n",
       "       'Elasticity', 'Web Creation', 'Symbiote Costume', 'Telekinesis',\n",
       "       'Levitation', 'Biokinesis', 'Sonar', 'Enhanced Touch',\n",
       "       'Seismic Power', 'Energy Armor', 'Radiation Immunity',\n",
       "       'Density Control', 'Light Control', 'Illumination',\n",
       "       'Molecular Combustion', 'Dimensional Travel', 'Audio Control',\n",
       "       'Sonic Scream', 'Peak Human Condition', 'Vision - Infrared',\n",
       "       'Dexterity', 'Energy Resistance', 'Vision - Cryo', 'Clairvoyance',\n",
       "       'Probability Manipulation', 'Electrokinesis',\n",
       "       'Darkforce Manipulation', 'Illusions', 'Death Touch',\n",
       "       'Gravity Control', 'Precognition', 'Time Manipulation',\n",
       "       'Omnilingualism', 'Astral Projection', 'Technopath/Cyberpath',\n",
       "       'Mind Control', 'Mind Blast', 'Cloaking', 'Telepathy Resistance',\n",
       "       'Mind Control Resistance', 'Radiation Control',\n",
       "       'Radiation Absorption', 'Magic Resistance',\n",
       "       'Dimensional Awareness', 'Intangibility', 'Element Control',\n",
       "       'Wind Control', 'Echolocation', 'Radar Sense', 'Resurrection',\n",
       "       'The Force', 'Possession', 'Astral Travel', 'Summoning', 'Banish',\n",
       "       'Adaptation', 'Electrical Transport', 'Speed Force', 'Omnipotent',\n",
       "       'Grim Reaping', 'Reality Warping', 'Portal Creation',\n",
       "       'Vitakinesis', 'Projection', 'Insanity', 'Plant Control',\n",
       "       'Photographic Reflexes', 'Anti-Gravity', 'Power Nullifier',\n",
       "       'Hair Manipulation', 'Weather Control', 'Nova Force', 'Odin Force',\n",
       "       'Phoenix Force', 'Power Sense', 'Qwardian Power Ring', 'Melting',\n",
       "       'Changing Armor', 'Terrakinesis'], dtype=object)"
      ]
     },
     "execution_count": 29,
     "metadata": {},
     "output_type": "execute_result"
    }
   ],
   "source": [
    "# making a list of all unique powers to make distinct columns\n",
    "cols_to_make = powers_exploded['powers'].dropna().unique()\n",
    "\n",
    "# confirming\n",
    "cols_to_make"
   ]
  },
  {
   "cell_type": "code",
   "execution_count": 30,
   "id": "f298bbca",
   "metadata": {},
   "outputs": [
    {
     "data": {
      "text/html": [
       "<div>\n",
       "<style scoped>\n",
       "    .dataframe tbody tr th:only-of-type {\n",
       "        vertical-align: middle;\n",
       "    }\n",
       "\n",
       "    .dataframe tbody tr th {\n",
       "        vertical-align: top;\n",
       "    }\n",
       "\n",
       "    .dataframe thead th {\n",
       "        text-align: right;\n",
       "    }\n",
       "</style>\n",
       "<table border=\"1\" class=\"dataframe\">\n",
       "  <thead>\n",
       "    <tr style=\"text-align: right;\">\n",
       "      <th></th>\n",
       "      <th>name</th>\n",
       "      <th>race</th>\n",
       "      <th>gender</th>\n",
       "      <th>height_cm</th>\n",
       "      <th>weight_kg</th>\n",
       "      <th>alignment</th>\n",
       "      <th>hair_color</th>\n",
       "      <th>eye_color</th>\n",
       "      <th>skin_color</th>\n",
       "      <th>publisher</th>\n",
       "      <th>...</th>\n",
       "      <th>Hair Manipulation</th>\n",
       "      <th>Weather Control</th>\n",
       "      <th>Nova Force</th>\n",
       "      <th>Odin Force</th>\n",
       "      <th>Phoenix Force</th>\n",
       "      <th>Power Sense</th>\n",
       "      <th>Qwardian Power Ring</th>\n",
       "      <th>Melting</th>\n",
       "      <th>Changing Armor</th>\n",
       "      <th>Terrakinesis</th>\n",
       "    </tr>\n",
       "  </thead>\n",
       "  <tbody>\n",
       "    <tr>\n",
       "      <th>252</th>\n",
       "      <td>Longshot</td>\n",
       "      <td>Human</td>\n",
       "      <td>Male</td>\n",
       "      <td>188.0</td>\n",
       "      <td>36.0</td>\n",
       "      <td>good</td>\n",
       "      <td>Blond</td>\n",
       "      <td>blue</td>\n",
       "      <td>Unknown</td>\n",
       "      <td>Marvel Comics</td>\n",
       "      <td>...</td>\n",
       "      <td>0</td>\n",
       "      <td>0</td>\n",
       "      <td>0</td>\n",
       "      <td>0</td>\n",
       "      <td>0</td>\n",
       "      <td>0</td>\n",
       "      <td>0</td>\n",
       "      <td>0</td>\n",
       "      <td>0</td>\n",
       "      <td>0</td>\n",
       "    </tr>\n",
       "    <tr>\n",
       "      <th>424</th>\n",
       "      <td>Trickster</td>\n",
       "      <td>Human</td>\n",
       "      <td>Male</td>\n",
       "      <td>183.0</td>\n",
       "      <td>81.0</td>\n",
       "      <td>Unknown</td>\n",
       "      <td>Blond</td>\n",
       "      <td>blue</td>\n",
       "      <td>Unknown</td>\n",
       "      <td>DC Comics</td>\n",
       "      <td>...</td>\n",
       "      <td>0</td>\n",
       "      <td>0</td>\n",
       "      <td>0</td>\n",
       "      <td>0</td>\n",
       "      <td>0</td>\n",
       "      <td>0</td>\n",
       "      <td>0</td>\n",
       "      <td>0</td>\n",
       "      <td>0</td>\n",
       "      <td>0</td>\n",
       "    </tr>\n",
       "    <tr>\n",
       "      <th>169</th>\n",
       "      <td>Gambit</td>\n",
       "      <td>Mutant</td>\n",
       "      <td>Male</td>\n",
       "      <td>185.0</td>\n",
       "      <td>81.0</td>\n",
       "      <td>good</td>\n",
       "      <td>Brown</td>\n",
       "      <td>red</td>\n",
       "      <td>Unknown</td>\n",
       "      <td>Marvel Comics</td>\n",
       "      <td>...</td>\n",
       "      <td>0</td>\n",
       "      <td>0</td>\n",
       "      <td>0</td>\n",
       "      <td>0</td>\n",
       "      <td>0</td>\n",
       "      <td>0</td>\n",
       "      <td>0</td>\n",
       "      <td>0</td>\n",
       "      <td>0</td>\n",
       "      <td>0</td>\n",
       "    </tr>\n",
       "    <tr>\n",
       "      <th>38</th>\n",
       "      <td>Azazel</td>\n",
       "      <td>Neyaphem</td>\n",
       "      <td>Male</td>\n",
       "      <td>183.0</td>\n",
       "      <td>67.0</td>\n",
       "      <td>bad</td>\n",
       "      <td>Black</td>\n",
       "      <td>yellow</td>\n",
       "      <td>red</td>\n",
       "      <td>Marvel Comics</td>\n",
       "      <td>...</td>\n",
       "      <td>0</td>\n",
       "      <td>0</td>\n",
       "      <td>0</td>\n",
       "      <td>0</td>\n",
       "      <td>0</td>\n",
       "      <td>0</td>\n",
       "      <td>0</td>\n",
       "      <td>0</td>\n",
       "      <td>0</td>\n",
       "      <td>0</td>\n",
       "    </tr>\n",
       "    <tr>\n",
       "      <th>300</th>\n",
       "      <td>Nightcrawler</td>\n",
       "      <td>Unknown</td>\n",
       "      <td>Male</td>\n",
       "      <td>175.0</td>\n",
       "      <td>88.0</td>\n",
       "      <td>good</td>\n",
       "      <td>Indigo</td>\n",
       "      <td>yellow</td>\n",
       "      <td>Unknown</td>\n",
       "      <td>Marvel Comics</td>\n",
       "      <td>...</td>\n",
       "      <td>0</td>\n",
       "      <td>0</td>\n",
       "      <td>0</td>\n",
       "      <td>0</td>\n",
       "      <td>0</td>\n",
       "      <td>0</td>\n",
       "      <td>0</td>\n",
       "      <td>0</td>\n",
       "      <td>0</td>\n",
       "      <td>0</td>\n",
       "    </tr>\n",
       "    <tr>\n",
       "      <th>0</th>\n",
       "      <td>A-Bomb</td>\n",
       "      <td>Human</td>\n",
       "      <td>Male</td>\n",
       "      <td>203.0</td>\n",
       "      <td>441.0</td>\n",
       "      <td>good</td>\n",
       "      <td>No Hair</td>\n",
       "      <td>yellow</td>\n",
       "      <td>Unknown</td>\n",
       "      <td>Marvel Comics</td>\n",
       "      <td>...</td>\n",
       "      <td>0</td>\n",
       "      <td>0</td>\n",
       "      <td>0</td>\n",
       "      <td>0</td>\n",
       "      <td>0</td>\n",
       "      <td>0</td>\n",
       "      <td>0</td>\n",
       "      <td>0</td>\n",
       "      <td>0</td>\n",
       "      <td>0</td>\n",
       "    </tr>\n",
       "    <tr>\n",
       "      <th>270</th>\n",
       "      <td>Mera</td>\n",
       "      <td>Atlantean</td>\n",
       "      <td>Female</td>\n",
       "      <td>175.0</td>\n",
       "      <td>72.0</td>\n",
       "      <td>good</td>\n",
       "      <td>Red</td>\n",
       "      <td>blue</td>\n",
       "      <td>Unknown</td>\n",
       "      <td>DC Comics</td>\n",
       "      <td>...</td>\n",
       "      <td>0</td>\n",
       "      <td>0</td>\n",
       "      <td>0</td>\n",
       "      <td>0</td>\n",
       "      <td>0</td>\n",
       "      <td>0</td>\n",
       "      <td>0</td>\n",
       "      <td>0</td>\n",
       "      <td>0</td>\n",
       "      <td>0</td>\n",
       "    </tr>\n",
       "  </tbody>\n",
       "</table>\n",
       "<p>7 rows × 170 columns</p>\n",
       "</div>"
      ],
      "text/plain": [
       "             name       race  gender  height_cm  weight_kg alignment  \\\n",
       "252      Longshot      Human    Male      188.0       36.0      good   \n",
       "424     Trickster      Human    Male      183.0       81.0   Unknown   \n",
       "169        Gambit     Mutant    Male      185.0       81.0      good   \n",
       "38         Azazel   Neyaphem    Male      183.0       67.0       bad   \n",
       "300  Nightcrawler    Unknown    Male      175.0       88.0      good   \n",
       "0          A-Bomb      Human    Male      203.0      441.0      good   \n",
       "270          Mera  Atlantean  Female      175.0       72.0      good   \n",
       "\n",
       "    hair_color eye_color skin_color      publisher  ... Hair Manipulation  \\\n",
       "252      Blond      blue    Unknown  Marvel Comics  ...                 0   \n",
       "424      Blond      blue    Unknown      DC Comics  ...                 0   \n",
       "169      Brown       red    Unknown  Marvel Comics  ...                 0   \n",
       "38       Black    yellow        red  Marvel Comics  ...                 0   \n",
       "300     Indigo    yellow    Unknown  Marvel Comics  ...                 0   \n",
       "0      No Hair    yellow    Unknown  Marvel Comics  ...                 0   \n",
       "270        Red      blue    Unknown      DC Comics  ...                 0   \n",
       "\n",
       "     Weather Control  Nova Force  Odin Force  Phoenix Force  Power Sense  \\\n",
       "252                0           0           0              0            0   \n",
       "424                0           0           0              0            0   \n",
       "169                0           0           0              0            0   \n",
       "38                 0           0           0              0            0   \n",
       "300                0           0           0              0            0   \n",
       "0                  0           0           0              0            0   \n",
       "270                0           0           0              0            0   \n",
       "\n",
       "     Qwardian Power Ring  Melting  Changing Armor  Terrakinesis  \n",
       "252                    0        0               0             0  \n",
       "424                    0        0               0             0  \n",
       "169                    0        0               0             0  \n",
       "38                     0        0               0             0  \n",
       "300                    0        0               0             0  \n",
       "0                      0        0               0             0  \n",
       "270                    0        0               0             0  \n",
       "\n",
       "[7 rows x 170 columns]"
      ]
     },
     "execution_count": 30,
     "metadata": {},
     "output_type": "execute_result"
    }
   ],
   "source": [
    "# creating separate one hot encoded columns for each power \n",
    "for i in cols_to_make:\n",
    "    df[i] = df['powers'].apply(lambda x: 1 if i in x else 0)\n",
    "\n",
    "# confirming\n",
    "df.sample(7)"
   ]
  },
  {
   "cell_type": "markdown",
   "id": "d0b50455",
   "metadata": {},
   "source": [
    "<mark><u>**Comment:**</u>\n",
    "\n",
    "<font color='dodgerblue' size=4><i>\n",
    "Everything looks like it worked here, we can now drop the redundant 'powers' column.\n",
    "</i></font>"
   ]
  },
  {
   "cell_type": "code",
   "execution_count": 31,
   "id": "46e5e10a",
   "metadata": {},
   "outputs": [],
   "source": [
    "# dropping 'powers'\n",
    "df = df.drop(columns='powers').copy()"
   ]
  },
  {
   "cell_type": "code",
   "execution_count": 32,
   "id": "1de7cef7",
   "metadata": {},
   "outputs": [
    {
     "data": {
      "text/plain": [
       "False"
      ]
     },
     "execution_count": 32,
     "metadata": {},
     "output_type": "execute_result"
    }
   ],
   "source": [
    "# confirming with an in statement since we have so many columns now\n",
    "'powers' in df.columns"
   ]
  },
  {
   "cell_type": "markdown",
   "id": "1492a9b5",
   "metadata": {},
   "source": [
    "### Viewing Final Cleaned up DataFrame"
   ]
  },
  {
   "cell_type": "code",
   "execution_count": 33,
   "id": "c9cf9bc8",
   "metadata": {},
   "outputs": [
    {
     "name": "stdout",
     "output_type": "stream",
     "text": [
      "<class 'pandas.core.frame.DataFrame'>\n",
      "Int64Index: 463 entries, 0 to 462\n",
      "Columns: 169 entries, name to Terrakinesis\n",
      "dtypes: float64(2), int64(159), object(8)\n",
      "memory usage: 631.1+ KB\n"
     ]
    },
    {
     "data": {
      "text/html": [
       "<div>\n",
       "<style scoped>\n",
       "    .dataframe tbody tr th:only-of-type {\n",
       "        vertical-align: middle;\n",
       "    }\n",
       "\n",
       "    .dataframe tbody tr th {\n",
       "        vertical-align: top;\n",
       "    }\n",
       "\n",
       "    .dataframe thead th {\n",
       "        text-align: right;\n",
       "    }\n",
       "</style>\n",
       "<table border=\"1\" class=\"dataframe\">\n",
       "  <thead>\n",
       "    <tr style=\"text-align: right;\">\n",
       "      <th></th>\n",
       "      <th>name</th>\n",
       "      <th>race</th>\n",
       "      <th>gender</th>\n",
       "      <th>height_cm</th>\n",
       "      <th>weight_kg</th>\n",
       "      <th>alignment</th>\n",
       "      <th>hair_color</th>\n",
       "      <th>eye_color</th>\n",
       "      <th>skin_color</th>\n",
       "      <th>publisher</th>\n",
       "      <th>...</th>\n",
       "      <th>Hair Manipulation</th>\n",
       "      <th>Weather Control</th>\n",
       "      <th>Nova Force</th>\n",
       "      <th>Odin Force</th>\n",
       "      <th>Phoenix Force</th>\n",
       "      <th>Power Sense</th>\n",
       "      <th>Qwardian Power Ring</th>\n",
       "      <th>Melting</th>\n",
       "      <th>Changing Armor</th>\n",
       "      <th>Terrakinesis</th>\n",
       "    </tr>\n",
       "  </thead>\n",
       "  <tbody>\n",
       "    <tr>\n",
       "      <th>0</th>\n",
       "      <td>A-Bomb</td>\n",
       "      <td>Human</td>\n",
       "      <td>Male</td>\n",
       "      <td>203.0</td>\n",
       "      <td>441.0</td>\n",
       "      <td>good</td>\n",
       "      <td>No Hair</td>\n",
       "      <td>yellow</td>\n",
       "      <td>Unknown</td>\n",
       "      <td>Marvel Comics</td>\n",
       "      <td>...</td>\n",
       "      <td>0</td>\n",
       "      <td>0</td>\n",
       "      <td>0</td>\n",
       "      <td>0</td>\n",
       "      <td>0</td>\n",
       "      <td>0</td>\n",
       "      <td>0</td>\n",
       "      <td>0</td>\n",
       "      <td>0</td>\n",
       "      <td>0</td>\n",
       "    </tr>\n",
       "    <tr>\n",
       "      <th>1</th>\n",
       "      <td>Abe Sapien</td>\n",
       "      <td>Icthyo Sapien</td>\n",
       "      <td>Male</td>\n",
       "      <td>191.0</td>\n",
       "      <td>65.0</td>\n",
       "      <td>good</td>\n",
       "      <td>No Hair</td>\n",
       "      <td>blue</td>\n",
       "      <td>blue</td>\n",
       "      <td>Dark Horse Comics</td>\n",
       "      <td>...</td>\n",
       "      <td>0</td>\n",
       "      <td>0</td>\n",
       "      <td>0</td>\n",
       "      <td>0</td>\n",
       "      <td>0</td>\n",
       "      <td>0</td>\n",
       "      <td>0</td>\n",
       "      <td>0</td>\n",
       "      <td>0</td>\n",
       "      <td>0</td>\n",
       "    </tr>\n",
       "    <tr>\n",
       "      <th>2</th>\n",
       "      <td>Abin Sur</td>\n",
       "      <td>Ungaran</td>\n",
       "      <td>Male</td>\n",
       "      <td>185.0</td>\n",
       "      <td>90.0</td>\n",
       "      <td>good</td>\n",
       "      <td>No Hair</td>\n",
       "      <td>blue</td>\n",
       "      <td>red</td>\n",
       "      <td>DC Comics</td>\n",
       "      <td>...</td>\n",
       "      <td>0</td>\n",
       "      <td>0</td>\n",
       "      <td>0</td>\n",
       "      <td>0</td>\n",
       "      <td>0</td>\n",
       "      <td>0</td>\n",
       "      <td>0</td>\n",
       "      <td>0</td>\n",
       "      <td>0</td>\n",
       "      <td>0</td>\n",
       "    </tr>\n",
       "    <tr>\n",
       "      <th>3</th>\n",
       "      <td>Abomination</td>\n",
       "      <td>Human / Radiation</td>\n",
       "      <td>Male</td>\n",
       "      <td>203.0</td>\n",
       "      <td>441.0</td>\n",
       "      <td>bad</td>\n",
       "      <td>No Hair</td>\n",
       "      <td>green</td>\n",
       "      <td>Unknown</td>\n",
       "      <td>Marvel Comics</td>\n",
       "      <td>...</td>\n",
       "      <td>0</td>\n",
       "      <td>0</td>\n",
       "      <td>0</td>\n",
       "      <td>0</td>\n",
       "      <td>0</td>\n",
       "      <td>0</td>\n",
       "      <td>0</td>\n",
       "      <td>0</td>\n",
       "      <td>0</td>\n",
       "      <td>0</td>\n",
       "    </tr>\n",
       "    <tr>\n",
       "      <th>4</th>\n",
       "      <td>Absorbing Man</td>\n",
       "      <td>Human</td>\n",
       "      <td>Male</td>\n",
       "      <td>193.0</td>\n",
       "      <td>122.0</td>\n",
       "      <td>bad</td>\n",
       "      <td>No Hair</td>\n",
       "      <td>blue</td>\n",
       "      <td>Unknown</td>\n",
       "      <td>Marvel Comics</td>\n",
       "      <td>...</td>\n",
       "      <td>0</td>\n",
       "      <td>0</td>\n",
       "      <td>0</td>\n",
       "      <td>0</td>\n",
       "      <td>0</td>\n",
       "      <td>0</td>\n",
       "      <td>0</td>\n",
       "      <td>0</td>\n",
       "      <td>0</td>\n",
       "      <td>0</td>\n",
       "    </tr>\n",
       "  </tbody>\n",
       "</table>\n",
       "<p>5 rows × 169 columns</p>\n",
       "</div>"
      ],
      "text/plain": [
       "            name               race gender  height_cm  weight_kg alignment  \\\n",
       "0         A-Bomb              Human   Male      203.0      441.0      good   \n",
       "1     Abe Sapien      Icthyo Sapien   Male      191.0       65.0      good   \n",
       "2       Abin Sur            Ungaran   Male      185.0       90.0      good   \n",
       "3    Abomination  Human / Radiation   Male      203.0      441.0       bad   \n",
       "4  Absorbing Man              Human   Male      193.0      122.0       bad   \n",
       "\n",
       "  hair_color eye_color skin_color          publisher  ...  Hair Manipulation  \\\n",
       "0    No Hair    yellow    Unknown      Marvel Comics  ...                  0   \n",
       "1    No Hair      blue       blue  Dark Horse Comics  ...                  0   \n",
       "2    No Hair      blue        red          DC Comics  ...                  0   \n",
       "3    No Hair     green    Unknown      Marvel Comics  ...                  0   \n",
       "4    No Hair      blue    Unknown      Marvel Comics  ...                  0   \n",
       "\n",
       "   Weather Control  Nova Force  Odin Force  Phoenix Force  Power Sense  \\\n",
       "0                0           0           0              0            0   \n",
       "1                0           0           0              0            0   \n",
       "2                0           0           0              0            0   \n",
       "3                0           0           0              0            0   \n",
       "4                0           0           0              0            0   \n",
       "\n",
       "   Qwardian Power Ring  Melting  Changing Armor  Terrakinesis  \n",
       "0                    0        0               0             0  \n",
       "1                    0        0               0             0  \n",
       "2                    0        0               0             0  \n",
       "3                    0        0               0             0  \n",
       "4                    0        0               0             0  \n",
       "\n",
       "[5 rows x 169 columns]"
      ]
     },
     "metadata": {},
     "output_type": "display_data"
    },
    {
     "data": {
      "text/plain": [
       "None"
      ]
     },
     "metadata": {},
     "output_type": "display_data"
    }
   ],
   "source": [
    "display(df.head(), df.info())"
   ]
  },
  {
   "cell_type": "markdown",
   "id": "46ef03f8",
   "metadata": {},
   "source": [
    "<mark><u>**Comment:**</u>\n",
    "\n",
    "<font color='dodgerblue' size=4><i>\n",
    "We should be good to go with our first task here.\n",
    "</i></font>"
   ]
  },
  {
   "cell_type": "markdown",
   "id": "135df27e",
   "metadata": {},
   "source": [
    "## Comparing weights for heroes with 'super speed'"
   ]
  },
  {
   "cell_type": "code",
   "execution_count": 34,
   "id": "7e835637",
   "metadata": {},
   "outputs": [
    {
     "data": {
      "text/plain": [
       "(463, 169)"
      ]
     },
     "metadata": {},
     "output_type": "display_data"
    },
    {
     "data": {
      "text/plain": [
       "(198, 169)"
      ]
     },
     "metadata": {},
     "output_type": "display_data"
    },
    {
     "data": {
      "text/plain": [
       "(265, 169)"
      ]
     },
     "metadata": {},
     "output_type": "display_data"
    },
    {
     "data": {
      "text/html": [
       "<div>\n",
       "<style scoped>\n",
       "    .dataframe tbody tr th:only-of-type {\n",
       "        vertical-align: middle;\n",
       "    }\n",
       "\n",
       "    .dataframe tbody tr th {\n",
       "        vertical-align: top;\n",
       "    }\n",
       "\n",
       "    .dataframe thead th {\n",
       "        text-align: right;\n",
       "    }\n",
       "</style>\n",
       "<table border=\"1\" class=\"dataframe\">\n",
       "  <thead>\n",
       "    <tr style=\"text-align: right;\">\n",
       "      <th></th>\n",
       "      <th>name</th>\n",
       "      <th>Super Speed</th>\n",
       "    </tr>\n",
       "  </thead>\n",
       "  <tbody>\n",
       "    <tr>\n",
       "      <th>3</th>\n",
       "      <td>Abomination</td>\n",
       "      <td>1</td>\n",
       "    </tr>\n",
       "    <tr>\n",
       "      <th>5</th>\n",
       "      <td>Adam Strange</td>\n",
       "      <td>1</td>\n",
       "    </tr>\n",
       "    <tr>\n",
       "      <th>8</th>\n",
       "      <td>Air-Walker</td>\n",
       "      <td>1</td>\n",
       "    </tr>\n",
       "    <tr>\n",
       "      <th>9</th>\n",
       "      <td>Ajax</td>\n",
       "      <td>1</td>\n",
       "    </tr>\n",
       "    <tr>\n",
       "      <th>10</th>\n",
       "      <td>Alan Scott</td>\n",
       "      <td>1</td>\n",
       "    </tr>\n",
       "  </tbody>\n",
       "</table>\n",
       "</div>"
      ],
      "text/plain": [
       "            name  Super Speed\n",
       "3    Abomination            1\n",
       "5   Adam Strange            1\n",
       "8     Air-Walker            1\n",
       "9           Ajax            1\n",
       "10    Alan Scott            1"
      ]
     },
     "metadata": {},
     "output_type": "display_data"
    },
    {
     "data": {
      "text/html": [
       "<div>\n",
       "<style scoped>\n",
       "    .dataframe tbody tr th:only-of-type {\n",
       "        vertical-align: middle;\n",
       "    }\n",
       "\n",
       "    .dataframe tbody tr th {\n",
       "        vertical-align: top;\n",
       "    }\n",
       "\n",
       "    .dataframe thead th {\n",
       "        text-align: right;\n",
       "    }\n",
       "</style>\n",
       "<table border=\"1\" class=\"dataframe\">\n",
       "  <thead>\n",
       "    <tr style=\"text-align: right;\">\n",
       "      <th></th>\n",
       "      <th>name</th>\n",
       "      <th>Super Speed</th>\n",
       "    </tr>\n",
       "  </thead>\n",
       "  <tbody>\n",
       "    <tr>\n",
       "      <th>0</th>\n",
       "      <td>A-Bomb</td>\n",
       "      <td>0</td>\n",
       "    </tr>\n",
       "    <tr>\n",
       "      <th>1</th>\n",
       "      <td>Abe Sapien</td>\n",
       "      <td>0</td>\n",
       "    </tr>\n",
       "    <tr>\n",
       "      <th>2</th>\n",
       "      <td>Abin Sur</td>\n",
       "      <td>0</td>\n",
       "    </tr>\n",
       "    <tr>\n",
       "      <th>4</th>\n",
       "      <td>Absorbing Man</td>\n",
       "      <td>0</td>\n",
       "    </tr>\n",
       "    <tr>\n",
       "      <th>6</th>\n",
       "      <td>Agent Bob</td>\n",
       "      <td>0</td>\n",
       "    </tr>\n",
       "  </tbody>\n",
       "</table>\n",
       "</div>"
      ],
      "text/plain": [
       "            name  Super Speed\n",
       "0         A-Bomb            0\n",
       "1     Abe Sapien            0\n",
       "2       Abin Sur            0\n",
       "4  Absorbing Man            0\n",
       "6      Agent Bob            0"
      ]
     },
     "metadata": {},
     "output_type": "display_data"
    }
   ],
   "source": [
    "# segmenting into super speed and non super speed\n",
    "speedy = df[df['Super Speed'] == 1]\n",
    "non_speedy = df[df['Super Speed'] == 0]\n",
    "\n",
    "# confirming\n",
    "display(df.shape, speedy.shape, non_speedy.shape, \n",
    "        speedy[['name', 'Super Speed']].head(),\n",
    "        non_speedy[['name', 'Super Speed']].head())"
   ]
  },
  {
   "cell_type": "code",
   "execution_count": 35,
   "id": "5b1dd57b",
   "metadata": {},
   "outputs": [
    {
     "name": "stdout",
     "output_type": "stream",
     "text": [
      "The average weight of heroes with Super Speed:               129.40 kg\n",
      "The average weight of heroes without Super Speed:               101.77 kg\n"
     ]
    }
   ],
   "source": [
    "# finding average weights of speedy vs non speedy heroes\n",
    "print(f\"The average weight of heroes with Super Speed: \\\n",
    "              {speedy['weight_kg'].mean():.2f} kg\")\n",
    "print(f\"The average weight of heroes without Super Speed: \\\n",
    "              {non_speedy['weight_kg'].mean():.2f} kg\")"
   ]
  },
  {
   "cell_type": "markdown",
   "id": "5675a211",
   "metadata": {},
   "source": [
    "<mark><u>**Comment:**</u>\n",
    "\n",
    "<font color='dodgerblue' size=4><i>\n",
    "Interesting... So characters with Super Speed on average weigh more compared to those without Super Speed.  I wonder if we have an outlier tipping that value (Juggernaut?).\n",
    "    \n",
    "* **Super Speed heroes: 129.40 kg average weight**\n",
    "* **Non Super Speed heroes: 101.77 kg average weight**\n",
    "</i></font>"
   ]
  },
  {
   "cell_type": "code",
   "execution_count": 36,
   "id": "d63ed913",
   "metadata": {},
   "outputs": [
    {
     "data": {
      "text/plain": [
       "count    198.000000\n",
       "mean     129.404040\n",
       "std      122.625087\n",
       "min       14.000000\n",
       "25%       69.250000\n",
       "50%       90.000000\n",
       "75%      135.000000\n",
       "max      855.000000\n",
       "Name: weight_kg, dtype: float64"
      ]
     },
     "metadata": {},
     "output_type": "display_data"
    },
    {
     "data": {
      "text/plain": [
       "count    265.000000\n",
       "mean     101.773585\n",
       "std       91.745168\n",
       "min        4.000000\n",
       "25%       59.000000\n",
       "50%       79.000000\n",
       "75%       97.000000\n",
       "max      900.000000\n",
       "Name: weight_kg, dtype: float64"
      ]
     },
     "metadata": {},
     "output_type": "display_data"
    }
   ],
   "source": [
    "display(speedy['weight_kg'].describe(), non_speedy['weight_kg'].describe())"
   ]
  },
  {
   "cell_type": "code",
   "execution_count": 37,
   "id": "0bdf1b3a",
   "metadata": {},
   "outputs": [
    {
     "data": {
      "text/html": [
       "<div>\n",
       "<style scoped>\n",
       "    .dataframe tbody tr th:only-of-type {\n",
       "        vertical-align: middle;\n",
       "    }\n",
       "\n",
       "    .dataframe tbody tr th {\n",
       "        vertical-align: top;\n",
       "    }\n",
       "\n",
       "    .dataframe thead th {\n",
       "        text-align: right;\n",
       "    }\n",
       "</style>\n",
       "<table border=\"1\" class=\"dataframe\">\n",
       "  <thead>\n",
       "    <tr style=\"text-align: right;\">\n",
       "      <th></th>\n",
       "      <th>name</th>\n",
       "      <th>weight_kg</th>\n",
       "    </tr>\n",
       "  </thead>\n",
       "  <tbody>\n",
       "    <tr>\n",
       "      <th>230</th>\n",
       "      <td>Juggernaut</td>\n",
       "      <td>855.0</td>\n",
       "    </tr>\n",
       "    <tr>\n",
       "      <th>118</th>\n",
       "      <td>Darkseid</td>\n",
       "      <td>817.0</td>\n",
       "    </tr>\n",
       "    <tr>\n",
       "      <th>337</th>\n",
       "      <td>Red Hulk</td>\n",
       "      <td>630.0</td>\n",
       "    </tr>\n",
       "    <tr>\n",
       "      <th>205</th>\n",
       "      <td>Hulk</td>\n",
       "      <td>630.0</td>\n",
       "    </tr>\n",
       "    <tr>\n",
       "      <th>77</th>\n",
       "      <td>Bloodaxe</td>\n",
       "      <td>495.0</td>\n",
       "    </tr>\n",
       "  </tbody>\n",
       "</table>\n",
       "</div>"
      ],
      "text/plain": [
       "           name  weight_kg\n",
       "230  Juggernaut      855.0\n",
       "118    Darkseid      817.0\n",
       "337    Red Hulk      630.0\n",
       "205        Hulk      630.0\n",
       "77     Bloodaxe      495.0"
      ]
     },
     "metadata": {},
     "output_type": "display_data"
    },
    {
     "data": {
      "text/html": [
       "<div>\n",
       "<style scoped>\n",
       "    .dataframe tbody tr th:only-of-type {\n",
       "        vertical-align: middle;\n",
       "    }\n",
       "\n",
       "    .dataframe tbody tr th {\n",
       "        vertical-align: top;\n",
       "    }\n",
       "\n",
       "    .dataframe thead th {\n",
       "        text-align: right;\n",
       "    }\n",
       "</style>\n",
       "<table border=\"1\" class=\"dataframe\">\n",
       "  <thead>\n",
       "    <tr style=\"text-align: right;\">\n",
       "      <th></th>\n",
       "      <th>name</th>\n",
       "      <th>weight_kg</th>\n",
       "    </tr>\n",
       "  </thead>\n",
       "  <tbody>\n",
       "    <tr>\n",
       "      <th>354</th>\n",
       "      <td>Sasquatch</td>\n",
       "      <td>900.0</td>\n",
       "    </tr>\n",
       "    <tr>\n",
       "      <th>173</th>\n",
       "      <td>Giganta</td>\n",
       "      <td>630.0</td>\n",
       "    </tr>\n",
       "    <tr>\n",
       "      <th>0</th>\n",
       "      <td>A-Bomb</td>\n",
       "      <td>441.0</td>\n",
       "    </tr>\n",
       "    <tr>\n",
       "      <th>378</th>\n",
       "      <td>Solomon Grundy</td>\n",
       "      <td>437.0</td>\n",
       "    </tr>\n",
       "    <tr>\n",
       "      <th>308</th>\n",
       "      <td>Onslaught</td>\n",
       "      <td>405.0</td>\n",
       "    </tr>\n",
       "  </tbody>\n",
       "</table>\n",
       "</div>"
      ],
      "text/plain": [
       "               name  weight_kg\n",
       "354       Sasquatch      900.0\n",
       "173         Giganta      630.0\n",
       "0            A-Bomb      441.0\n",
       "378  Solomon Grundy      437.0\n",
       "308       Onslaught      405.0"
      ]
     },
     "metadata": {},
     "output_type": "display_data"
    }
   ],
   "source": [
    "display(speedy[['name','weight_kg']].sort_values('weight_kg', ascending=False).head(),\n",
    "        non_speedy[['name','weight_kg']].sort_values('weight_kg', ascending=False).head())"
   ]
  },
  {
   "cell_type": "markdown",
   "id": "5f533edf",
   "metadata": {},
   "source": [
    "<mark><u>**Comment:**</u>\n",
    "\n",
    "<font color='dodgerblue' size=4><i>\n",
    "Nope, it looks like even our medians are larger as well and so it seems that characters with Super Speed tend to weigh more on average.\n",
    "</i></font>"
   ]
  },
  {
   "cell_type": "code",
   "execution_count": 38,
   "id": "851c4460",
   "metadata": {},
   "outputs": [
    {
     "data": {
      "image/png": "[encoded data removed]",
      "text/plain": [
       "<Figure size 640x480 with 1 Axes>"
      ]
     },
     "metadata": {},
     "output_type": "display_data"
    }
   ],
   "source": [
    "speedy['weight_kg'].plot(kind='hist', bins=40, label='speedy')\n",
    "non_speedy['weight_kg'].plot(kind='hist', bins=40, label='non speedy', alpha=.6)\n",
    "plt.xlabel('Weight')\n",
    "plt.legend();"
   ]
  },
  {
   "cell_type": "markdown",
   "id": "cf2d1f7e",
   "metadata": {},
   "source": [
    "## Comparing average hero height by publisher"
   ]
  },
  {
   "cell_type": "code",
   "execution_count": 39,
   "id": "c6e9d412",
   "metadata": {},
   "outputs": [
    {
     "data": {
      "text/html": [
       "<div>\n",
       "<style scoped>\n",
       "    .dataframe tbody tr th:only-of-type {\n",
       "        vertical-align: middle;\n",
       "    }\n",
       "\n",
       "    .dataframe tbody tr th {\n",
       "        vertical-align: top;\n",
       "    }\n",
       "\n",
       "    .dataframe thead th {\n",
       "        text-align: right;\n",
       "    }\n",
       "</style>\n",
       "<table border=\"1\" class=\"dataframe\">\n",
       "  <thead>\n",
       "    <tr style=\"text-align: right;\">\n",
       "      <th></th>\n",
       "      <th>publisher</th>\n",
       "      <th>average_height</th>\n",
       "    </tr>\n",
       "  </thead>\n",
       "  <tbody>\n",
       "    <tr>\n",
       "      <th>3</th>\n",
       "      <td>Image Comics</td>\n",
       "      <td>211.000000</td>\n",
       "    </tr>\n",
       "    <tr>\n",
       "      <th>4</th>\n",
       "      <td>Marvel Comics</td>\n",
       "      <td>191.546128</td>\n",
       "    </tr>\n",
       "    <tr>\n",
       "      <th>0</th>\n",
       "      <td>DC Comics</td>\n",
       "      <td>181.923913</td>\n",
       "    </tr>\n",
       "    <tr>\n",
       "      <th>6</th>\n",
       "      <td>Star Trek</td>\n",
       "      <td>181.500000</td>\n",
       "    </tr>\n",
       "    <tr>\n",
       "      <th>7</th>\n",
       "      <td>Team Epic TV</td>\n",
       "      <td>180.750000</td>\n",
       "    </tr>\n",
       "    <tr>\n",
       "      <th>8</th>\n",
       "      <td>Unknown</td>\n",
       "      <td>178.000000</td>\n",
       "    </tr>\n",
       "    <tr>\n",
       "      <th>1</th>\n",
       "      <td>Dark Horse Comics</td>\n",
       "      <td>176.909091</td>\n",
       "    </tr>\n",
       "    <tr>\n",
       "      <th>5</th>\n",
       "      <td>Shueisha</td>\n",
       "      <td>171.500000</td>\n",
       "    </tr>\n",
       "    <tr>\n",
       "      <th>2</th>\n",
       "      <td>George Lucas</td>\n",
       "      <td>159.600000</td>\n",
       "    </tr>\n",
       "  </tbody>\n",
       "</table>\n",
       "</div>"
      ],
      "text/plain": [
       "           publisher  average_height\n",
       "3       Image Comics      211.000000\n",
       "4      Marvel Comics      191.546128\n",
       "0          DC Comics      181.923913\n",
       "6          Star Trek      181.500000\n",
       "7       Team Epic TV      180.750000\n",
       "8            Unknown      178.000000\n",
       "1  Dark Horse Comics      176.909091\n",
       "5           Shueisha      171.500000\n",
       "2       George Lucas      159.600000"
      ]
     },
     "execution_count": 39,
     "metadata": {},
     "output_type": "execute_result"
    }
   ],
   "source": [
    "# using groupby to answer this question\n",
    "(df\n",
    "     .groupby('publisher')\n",
    "     ['height_cm'].mean()\n",
    "     .reset_index(name='average_height')\n",
    "     .sort_values('average_height', ascending=False)\n",
    ")"
   ]
  },
  {
   "cell_type": "markdown",
   "id": "03e2f45e",
   "metadata": {},
   "source": [
    "<mark><u>**Comment:**</u>\n",
    "\n",
    "<font color='dodgerblue' size=4><i>\n",
    "\"Image\" features the tallest heroes on average (211 cm) and heroes from the works of George Lucas tend to be the shortest on average (159 cm). (Yoda perhaps?)\n",
    "</i></font>"
   ]
  },
  {
   "cell_type": "code",
   "execution_count": 40,
   "id": "f2593f1f",
   "metadata": {},
   "outputs": [
    {
     "data": {
      "text/html": [
       "<div>\n",
       "<style scoped>\n",
       "    .dataframe tbody tr th:only-of-type {\n",
       "        vertical-align: middle;\n",
       "    }\n",
       "\n",
       "    .dataframe tbody tr th {\n",
       "        vertical-align: top;\n",
       "    }\n",
       "\n",
       "    .dataframe thead th {\n",
       "        text-align: right;\n",
       "    }\n",
       "</style>\n",
       "<table border=\"1\" class=\"dataframe\">\n",
       "  <thead>\n",
       "    <tr style=\"text-align: right;\">\n",
       "      <th></th>\n",
       "      <th>name</th>\n",
       "      <th>height_cm</th>\n",
       "    </tr>\n",
       "  </thead>\n",
       "  <tbody>\n",
       "    <tr>\n",
       "      <th>381</th>\n",
       "      <td>Spawn</td>\n",
       "      <td>211.0</td>\n",
       "    </tr>\n",
       "  </tbody>\n",
       "</table>\n",
       "</div>"
      ],
      "text/plain": [
       "      name  height_cm\n",
       "381  Spawn      211.0"
      ]
     },
     "execution_count": 40,
     "metadata": {},
     "output_type": "execute_result"
    }
   ],
   "source": [
    "df[df['publisher'] == 'Image Comics'][['name', 'height_cm']]"
   ]
  },
  {
   "cell_type": "code",
   "execution_count": 41,
   "id": "e2d2b03a",
   "metadata": {},
   "outputs": [
    {
     "data": {
      "text/html": [
       "<div>\n",
       "<style scoped>\n",
       "    .dataframe tbody tr th:only-of-type {\n",
       "        vertical-align: middle;\n",
       "    }\n",
       "\n",
       "    .dataframe tbody tr th {\n",
       "        vertical-align: top;\n",
       "    }\n",
       "\n",
       "    .dataframe thead th {\n",
       "        text-align: right;\n",
       "    }\n",
       "</style>\n",
       "<table border=\"1\" class=\"dataframe\">\n",
       "  <thead>\n",
       "    <tr style=\"text-align: right;\">\n",
       "      <th></th>\n",
       "      <th>name</th>\n",
       "      <th>height_cm</th>\n",
       "    </tr>\n",
       "  </thead>\n",
       "  <tbody>\n",
       "    <tr>\n",
       "      <th>120</th>\n",
       "      <td>Darth Vader</td>\n",
       "      <td>198.0</td>\n",
       "    </tr>\n",
       "    <tr>\n",
       "      <th>189</th>\n",
       "      <td>Han Solo</td>\n",
       "      <td>183.0</td>\n",
       "    </tr>\n",
       "    <tr>\n",
       "      <th>214</th>\n",
       "      <td>Indiana Jones</td>\n",
       "      <td>183.0</td>\n",
       "    </tr>\n",
       "    <tr>\n",
       "      <th>254</th>\n",
       "      <td>Luke Skywalker</td>\n",
       "      <td>168.0</td>\n",
       "    </tr>\n",
       "    <tr>\n",
       "      <th>460</th>\n",
       "      <td>Yoda</td>\n",
       "      <td>66.0</td>\n",
       "    </tr>\n",
       "  </tbody>\n",
       "</table>\n",
       "</div>"
      ],
      "text/plain": [
       "               name  height_cm\n",
       "120     Darth Vader      198.0\n",
       "189        Han Solo      183.0\n",
       "214   Indiana Jones      183.0\n",
       "254  Luke Skywalker      168.0\n",
       "460            Yoda       66.0"
      ]
     },
     "execution_count": 41,
     "metadata": {},
     "output_type": "execute_result"
    }
   ],
   "source": [
    "df[df['publisher'] == 'George Lucas'][['name', 'height_cm']]"
   ]
  },
  {
   "cell_type": "markdown",
   "id": "abd57f22",
   "metadata": {},
   "source": [
    "<mark><u>**Comment:**</u>\n",
    "\n",
    "<font color='dodgerblue' size=4><i>\n",
    "Okay, so clearly the unbalanced dataset is skewing these numbers.  We have only 1 entry for \"Image Comics\" (Spawn) and he happens to be tall.  We have only 5 entries for \"George Lucas\" and 1 of those entries is Yoda, who is famously diminutive in stature.\n",
    "</i></font>"
   ]
  }
 ],
 "metadata": {
  "kernelspec": {
   "display_name": "Python (dojo-env)",
   "language": "python",
   "name": "dojo-env"
  },
  "language_info": {
   "codemirror_mode": {
    "name": "ipython",
    "version": 3
   },
   "file_extension": ".py",
   "mimetype": "text/x-python",
   "name": "python",
   "nbconvert_exporter": "python",
   "pygments_lexer": "ipython3",
   "version": "3.9.15"
  },
  "toc": {
   "base_numbering": 1,
   "nav_menu": {},
   "number_sections": false,
   "sideBar": true,
   "skip_h1_title": false,
   "title_cell": "Table of Contents",
   "title_sidebar": "Contents",
   "toc_cell": false,
   "toc_position": {
    "height": "calc(100% - 180px)",
    "left": "10px",
    "top": "150px",
    "width": "170px"
   },
   "toc_section_display": true,
   "toc_window_display": true
  },
  "varInspector": {
   "cols": {
    "lenName": 16,
    "lenType": 16,
    "lenVar": 40
   },
   "kernels_config": {
    "python": {
     "delete_cmd_postfix": "",
     "delete_cmd_prefix": "del ",
     "library": "var_list.py",
     "varRefreshCmd": "print(var_dic_list())"
    },
    "r": {
     "delete_cmd_postfix": ") ",
     "delete_cmd_prefix": "rm(",
     "library": "var_list.r",
     "varRefreshCmd": "cat(var_dic_list()) "
    }
   },
   "types_to_exclude": [
    "module",
    "function",
    "builtin_function_or_method",
    "instance",
    "_Feature"
   ],
   "window_display": false
  }
 },
 "nbformat": 4,
 "nbformat_minor": 5
}
