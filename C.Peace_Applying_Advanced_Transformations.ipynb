{
 "cells": [
  {
   "cell_type": "markdown",
   "id": "d789dae0",
   "metadata": {},
   "source": [
    "# Applying Advanced Transformations\n",
    "Cameron Peace\n"
   ]
  },
  {
   "cell_type": "markdown",
   "id": "72b76b92",
   "metadata": {},
   "source": [
    "## Task"
   ]
  },
  {
   "cell_type": "markdown",
   "id": "e0b6169d",
   "metadata": {},
   "source": [
    "<mark><u>**I. Clean the files and combine them into one final DataFrame.**\n",
    "\n",
    "This dataframe should have the following columns:\n",
    "\n",
    "* [ ] Hero (Just the name of the Hero)\n",
    "* [ ] Publisher\n",
    "* [ ] Gender\n",
    "* [ ] Eye color\n",
    "* [ ] Race\n",
    "* [ ] Hair color\n",
    "* [ ] Height (numeric)\n",
    "* [ ] Skin color\n",
    "* [ ] Alignment\n",
    "* [ ] Weight (numeric)\n",
    "* [ ] Plus, one-hot-encoded columns for every power that appears in the dataset. E.g.:\n",
    "    * Agility\n",
    "    * Flight\n",
    "    * Superspeed\n",
    "    * etc.\n",
    "\n",
    "Hint: There is a space in \"100 kg\" or \"52.5 cm\"\n",
    "\n",
    "<mark><u>**II. Use your combined DataFrame to answer the following questions.**\n",
    "\n",
    "* [ ] Compare the average weight of super powers who have Super Speed to those who do not.\n",
    "* [ ] What is the average height of heroes for each publisher?"
   ]
  },
  {
   "cell_type": "markdown",
   "id": "e2d2c313",
   "metadata": {},
   "source": [
    "## Data Dictionary"
   ]
  },
  {
   "cell_type": "markdown",
   "id": "27b963bb",
   "metadata": {},
   "source": [
    "* **Row Identification** - index\n",
    "* **name** \n",
    "* **Gender** \n",
    "* **Eye color** \n",
    "* **Race** \n",
    "* **Hair color** \n",
    "* **Height** - The height measured in centimeters\n",
    "* **Publisher** - comics publisher\n",
    "* **Skin color**\n",
    "* **Alignment** - (good, bad, neutral, unknown)\n",
    "* **Weight** - The weight measured in pounds"
   ]
  },
  {
   "cell_type": "markdown",
   "id": "d699e9c4",
   "metadata": {},
   "source": [
    "### Data Background"
   ]
  },
  {
   "cell_type": "markdown",
   "id": "c0fba646",
   "metadata": {},
   "source": [
    "This dataset is a modified version of a dataset found [here](https://www.kaggle.com/datasets/claudiodavi/superhero-set) on kaggle.  It has been altered by Coding Dojo for educational purposes."
   ]
  },
  {
   "cell_type": "markdown",
   "id": "6d40d3b7",
   "metadata": {},
   "source": [
    "## Imports, Loading, Viewing Data"
   ]
  },
  {
   "cell_type": "code",
   "execution_count": 3,
   "id": "2744d16e",
   "metadata": {},
   "outputs": [],
   "source": [
    "import pandas as pd\n",
    "import numpy as np\n",
    "from matplotlib import pyplot as plt\n",
    "import seaborn as sns"
   ]
  },
  {
   "cell_type": "code",
   "execution_count": 4,
   "id": "d200c649",
   "metadata": {},
   "outputs": [],
   "source": [
    "# loading the data\n",
    "df_info = pd.read_csv('superhero_info.csv')\n",
    "df_powers = pd.read_csv('superhero_powers.csv')\n",
    "\n",
    "# making a copy\n",
    "df_info_original = df_info.copy()\n",
    "df_powers_original = df_powers.copy()"
   ]
  },
  {
   "cell_type": "markdown",
   "id": "ccfe97e1",
   "metadata": {},
   "source": [
    "#### Viewing Superhero info df"
   ]
  },
  {
   "cell_type": "code",
   "execution_count": 8,
   "id": "1d10ee95",
   "metadata": {},
   "outputs": [
    {
     "data": {
      "text/html": [
       "<div>\n",
       "<style scoped>\n",
       "    .dataframe tbody tr th:only-of-type {\n",
       "        vertical-align: middle;\n",
       "    }\n",
       "\n",
       "    .dataframe tbody tr th {\n",
       "        vertical-align: top;\n",
       "    }\n",
       "\n",
       "    .dataframe thead th {\n",
       "        text-align: right;\n",
       "    }\n",
       "</style>\n",
       "<table border=\"1\" class=\"dataframe\">\n",
       "  <thead>\n",
       "    <tr style=\"text-align: right;\">\n",
       "      <th></th>\n",
       "      <th>Hero|Publisher</th>\n",
       "      <th>Gender</th>\n",
       "      <th>Race</th>\n",
       "      <th>Alignment</th>\n",
       "      <th>Hair color</th>\n",
       "      <th>Eye color</th>\n",
       "      <th>Skin color</th>\n",
       "      <th>Measurements</th>\n",
       "    </tr>\n",
       "  </thead>\n",
       "  <tbody>\n",
       "    <tr>\n",
       "      <th>0</th>\n",
       "      <td>A-Bomb|Marvel Comics</td>\n",
       "      <td>Male</td>\n",
       "      <td>Human</td>\n",
       "      <td>good</td>\n",
       "      <td>No Hair</td>\n",
       "      <td>yellow</td>\n",
       "      <td>Unknown</td>\n",
       "      <td>{'Height': '203.0 cm', 'Weight': '441.0 kg'}</td>\n",
       "    </tr>\n",
       "    <tr>\n",
       "      <th>1</th>\n",
       "      <td>Abe Sapien|Dark Horse Comics</td>\n",
       "      <td>Male</td>\n",
       "      <td>Icthyo Sapien</td>\n",
       "      <td>good</td>\n",
       "      <td>No Hair</td>\n",
       "      <td>blue</td>\n",
       "      <td>blue</td>\n",
       "      <td>{'Height': '191.0 cm', 'Weight': '65.0 kg'}</td>\n",
       "    </tr>\n",
       "    <tr>\n",
       "      <th>2</th>\n",
       "      <td>Abin Sur|DC Comics</td>\n",
       "      <td>Male</td>\n",
       "      <td>Ungaran</td>\n",
       "      <td>good</td>\n",
       "      <td>No Hair</td>\n",
       "      <td>blue</td>\n",
       "      <td>red</td>\n",
       "      <td>{'Height': '185.0 cm', 'Weight': '90.0 kg'}</td>\n",
       "    </tr>\n",
       "    <tr>\n",
       "      <th>3</th>\n",
       "      <td>Abomination|Marvel Comics</td>\n",
       "      <td>Male</td>\n",
       "      <td>Human / Radiation</td>\n",
       "      <td>bad</td>\n",
       "      <td>No Hair</td>\n",
       "      <td>green</td>\n",
       "      <td>Unknown</td>\n",
       "      <td>{'Height': '203.0 cm', 'Weight': '441.0 kg'}</td>\n",
       "    </tr>\n",
       "    <tr>\n",
       "      <th>4</th>\n",
       "      <td>Absorbing Man|Marvel Comics</td>\n",
       "      <td>Male</td>\n",
       "      <td>Human</td>\n",
       "      <td>bad</td>\n",
       "      <td>No Hair</td>\n",
       "      <td>blue</td>\n",
       "      <td>Unknown</td>\n",
       "      <td>{'Height': '193.0 cm', 'Weight': '122.0 kg'}</td>\n",
       "    </tr>\n",
       "  </tbody>\n",
       "</table>\n",
       "</div>"
      ],
      "text/plain": [
       "                 Hero|Publisher Gender               Race Alignment  \\\n",
       "0          A-Bomb|Marvel Comics   Male              Human      good   \n",
       "1  Abe Sapien|Dark Horse Comics   Male      Icthyo Sapien      good   \n",
       "2            Abin Sur|DC Comics   Male            Ungaran      good   \n",
       "3     Abomination|Marvel Comics   Male  Human / Radiation       bad   \n",
       "4   Absorbing Man|Marvel Comics   Male              Human       bad   \n",
       "\n",
       "  Hair color Eye color Skin color  \\\n",
       "0    No Hair    yellow    Unknown   \n",
       "1    No Hair      blue       blue   \n",
       "2    No Hair      blue        red   \n",
       "3    No Hair     green    Unknown   \n",
       "4    No Hair      blue    Unknown   \n",
       "\n",
       "                                   Measurements  \n",
       "0  {'Height': '203.0 cm', 'Weight': '441.0 kg'}  \n",
       "1   {'Height': '191.0 cm', 'Weight': '65.0 kg'}  \n",
       "2   {'Height': '185.0 cm', 'Weight': '90.0 kg'}  \n",
       "3  {'Height': '203.0 cm', 'Weight': '441.0 kg'}  \n",
       "4  {'Height': '193.0 cm', 'Weight': '122.0 kg'}  "
      ]
     },
     "metadata": {},
     "output_type": "display_data"
    },
    {
     "name": "stdout",
     "output_type": "stream",
     "text": [
      "<class 'pandas.core.frame.DataFrame'>\n",
      "RangeIndex: 463 entries, 0 to 462\n",
      "Data columns (total 8 columns):\n",
      " #   Column          Non-Null Count  Dtype \n",
      "---  ------          --------------  ----- \n",
      " 0   Hero|Publisher  463 non-null    object\n",
      " 1   Gender          463 non-null    object\n",
      " 2   Race            463 non-null    object\n",
      " 3   Alignment       463 non-null    object\n",
      " 4   Hair color      463 non-null    object\n",
      " 5   Eye color       463 non-null    object\n",
      " 6   Skin color      463 non-null    object\n",
      " 7   Measurements    463 non-null    object\n",
      "dtypes: object(8)\n",
      "memory usage: 29.1+ KB\n"
     ]
    },
    {
     "data": {
      "text/plain": [
       "None"
      ]
     },
     "metadata": {},
     "output_type": "display_data"
    },
    {
     "data": {
      "text/html": [
       "<div>\n",
       "<style scoped>\n",
       "    .dataframe tbody tr th:only-of-type {\n",
       "        vertical-align: middle;\n",
       "    }\n",
       "\n",
       "    .dataframe tbody tr th {\n",
       "        vertical-align: top;\n",
       "    }\n",
       "\n",
       "    .dataframe thead th {\n",
       "        text-align: right;\n",
       "    }\n",
       "</style>\n",
       "<table border=\"1\" class=\"dataframe\">\n",
       "  <thead>\n",
       "    <tr style=\"text-align: right;\">\n",
       "      <th></th>\n",
       "      <th>Hero|Publisher</th>\n",
       "      <th>Gender</th>\n",
       "      <th>Race</th>\n",
       "      <th>Alignment</th>\n",
       "      <th>Hair color</th>\n",
       "      <th>Eye color</th>\n",
       "      <th>Skin color</th>\n",
       "      <th>Measurements</th>\n",
       "    </tr>\n",
       "  </thead>\n",
       "  <tbody>\n",
       "    <tr>\n",
       "      <th>count</th>\n",
       "      <td>463</td>\n",
       "      <td>463</td>\n",
       "      <td>463</td>\n",
       "      <td>463</td>\n",
       "      <td>463</td>\n",
       "      <td>463</td>\n",
       "      <td>463</td>\n",
       "      <td>463</td>\n",
       "    </tr>\n",
       "    <tr>\n",
       "      <th>unique</th>\n",
       "      <td>457</td>\n",
       "      <td>3</td>\n",
       "      <td>52</td>\n",
       "      <td>4</td>\n",
       "      <td>29</td>\n",
       "      <td>21</td>\n",
       "      <td>14</td>\n",
       "      <td>287</td>\n",
       "    </tr>\n",
       "    <tr>\n",
       "      <th>top</th>\n",
       "      <td>Spider-Man|Marvel Comics</td>\n",
       "      <td>Male</td>\n",
       "      <td>Human</td>\n",
       "      <td>good</td>\n",
       "      <td>Black</td>\n",
       "      <td>blue</td>\n",
       "      <td>Unknown</td>\n",
       "      <td>{'Height': '183.0 cm', 'Weight': '90.0 kg'}</td>\n",
       "    </tr>\n",
       "    <tr>\n",
       "      <th>freq</th>\n",
       "      <td>3</td>\n",
       "      <td>321</td>\n",
       "      <td>156</td>\n",
       "      <td>311</td>\n",
       "      <td>127</td>\n",
       "      <td>182</td>\n",
       "      <td>409</td>\n",
       "      <td>6</td>\n",
       "    </tr>\n",
       "  </tbody>\n",
       "</table>\n",
       "</div>"
      ],
      "text/plain": [
       "                  Hero|Publisher Gender   Race Alignment Hair color Eye color  \\\n",
       "count                        463    463    463       463        463       463   \n",
       "unique                       457      3     52         4         29        21   \n",
       "top     Spider-Man|Marvel Comics   Male  Human      good      Black      blue   \n",
       "freq                           3    321    156       311        127       182   \n",
       "\n",
       "       Skin color                                 Measurements  \n",
       "count         463                                          463  \n",
       "unique         14                                          287  \n",
       "top       Unknown  {'Height': '183.0 cm', 'Weight': '90.0 kg'}  \n",
       "freq          409                                            6  "
      ]
     },
     "metadata": {},
     "output_type": "display_data"
    },
    {
     "data": {
      "text/plain": [
       "Index(['Hero|Publisher', 'Gender', 'Race', 'Alignment', 'Hair color',\n",
       "       'Eye color', 'Skin color', 'Measurements'],\n",
       "      dtype='object')"
      ]
     },
     "metadata": {},
     "output_type": "display_data"
    }
   ],
   "source": [
    "# viewing superhero info\n",
    "display(df_info.head())\n",
    "display(df_info.info(), df_info.describe(), df_info.columns)"
   ]
  },
  {
   "cell_type": "markdown",
   "id": "4ccfcea9",
   "metadata": {},
   "source": [
    "#### Viewing Superhero powers df"
   ]
  },
  {
   "cell_type": "code",
   "execution_count": 7,
   "id": "5dd82766",
   "metadata": {},
   "outputs": [
    {
     "data": {
      "text/html": [
       "<div>\n",
       "<style scoped>\n",
       "    .dataframe tbody tr th:only-of-type {\n",
       "        vertical-align: middle;\n",
       "    }\n",
       "\n",
       "    .dataframe tbody tr th {\n",
       "        vertical-align: top;\n",
       "    }\n",
       "\n",
       "    .dataframe thead th {\n",
       "        text-align: right;\n",
       "    }\n",
       "</style>\n",
       "<table border=\"1\" class=\"dataframe\">\n",
       "  <thead>\n",
       "    <tr style=\"text-align: right;\">\n",
       "      <th></th>\n",
       "      <th>hero_names</th>\n",
       "      <th>Powers</th>\n",
       "    </tr>\n",
       "  </thead>\n",
       "  <tbody>\n",
       "    <tr>\n",
       "      <th>0</th>\n",
       "      <td>3-D Man</td>\n",
       "      <td>Agility,Super Strength,Stamina,Super Speed</td>\n",
       "    </tr>\n",
       "    <tr>\n",
       "      <th>1</th>\n",
       "      <td>A-Bomb</td>\n",
       "      <td>Accelerated Healing,Durability,Longevity,Super...</td>\n",
       "    </tr>\n",
       "    <tr>\n",
       "      <th>2</th>\n",
       "      <td>Abe Sapien</td>\n",
       "      <td>Agility,Accelerated Healing,Cold Resistance,Du...</td>\n",
       "    </tr>\n",
       "    <tr>\n",
       "      <th>3</th>\n",
       "      <td>Abin Sur</td>\n",
       "      <td>Lantern Power Ring</td>\n",
       "    </tr>\n",
       "    <tr>\n",
       "      <th>4</th>\n",
       "      <td>Abomination</td>\n",
       "      <td>Accelerated Healing,Intelligence,Super Strengt...</td>\n",
       "    </tr>\n",
       "  </tbody>\n",
       "</table>\n",
       "</div>"
      ],
      "text/plain": [
       "    hero_names                                             Powers\n",
       "0      3-D Man         Agility,Super Strength,Stamina,Super Speed\n",
       "1       A-Bomb  Accelerated Healing,Durability,Longevity,Super...\n",
       "2   Abe Sapien  Agility,Accelerated Healing,Cold Resistance,Du...\n",
       "3     Abin Sur                                 Lantern Power Ring\n",
       "4  Abomination  Accelerated Healing,Intelligence,Super Strengt..."
      ]
     },
     "metadata": {},
     "output_type": "display_data"
    },
    {
     "name": "stdout",
     "output_type": "stream",
     "text": [
      "<class 'pandas.core.frame.DataFrame'>\n",
      "RangeIndex: 667 entries, 0 to 666\n",
      "Data columns (total 2 columns):\n",
      " #   Column      Non-Null Count  Dtype \n",
      "---  ------      --------------  ----- \n",
      " 0   hero_names  667 non-null    object\n",
      " 1   Powers      667 non-null    object\n",
      "dtypes: object(2)\n",
      "memory usage: 10.5+ KB\n"
     ]
    },
    {
     "data": {
      "text/plain": [
       "None"
      ]
     },
     "metadata": {},
     "output_type": "display_data"
    },
    {
     "data": {
      "text/html": [
       "<div>\n",
       "<style scoped>\n",
       "    .dataframe tbody tr th:only-of-type {\n",
       "        vertical-align: middle;\n",
       "    }\n",
       "\n",
       "    .dataframe tbody tr th {\n",
       "        vertical-align: top;\n",
       "    }\n",
       "\n",
       "    .dataframe thead th {\n",
       "        text-align: right;\n",
       "    }\n",
       "</style>\n",
       "<table border=\"1\" class=\"dataframe\">\n",
       "  <thead>\n",
       "    <tr style=\"text-align: right;\">\n",
       "      <th></th>\n",
       "      <th>hero_names</th>\n",
       "      <th>Powers</th>\n",
       "    </tr>\n",
       "  </thead>\n",
       "  <tbody>\n",
       "    <tr>\n",
       "      <th>count</th>\n",
       "      <td>667</td>\n",
       "      <td>667</td>\n",
       "    </tr>\n",
       "    <tr>\n",
       "      <th>unique</th>\n",
       "      <td>667</td>\n",
       "      <td>608</td>\n",
       "    </tr>\n",
       "    <tr>\n",
       "      <th>top</th>\n",
       "      <td>3-D Man</td>\n",
       "      <td>Intelligence</td>\n",
       "    </tr>\n",
       "    <tr>\n",
       "      <th>freq</th>\n",
       "      <td>1</td>\n",
       "      <td>8</td>\n",
       "    </tr>\n",
       "  </tbody>\n",
       "</table>\n",
       "</div>"
      ],
      "text/plain": [
       "       hero_names        Powers\n",
       "count         667           667\n",
       "unique        667           608\n",
       "top       3-D Man  Intelligence\n",
       "freq            1             8"
      ]
     },
     "metadata": {},
     "output_type": "display_data"
    },
    {
     "data": {
      "text/plain": [
       "Index(['hero_names', 'Powers'], dtype='object')"
      ]
     },
     "metadata": {},
     "output_type": "display_data"
    }
   ],
   "source": [
    "# viewing the data\n",
    "display(df_powers.head())\n",
    "display(df_powers.info(), df_powers.describe(), df_powers.columns)"
   ]
  },
  {
   "cell_type": "markdown",
   "id": "773d187e",
   "metadata": {},
   "source": [
    "<mark><u>**Comment:**\n",
    "\n",
    "* <font color='dodgerblue' size=4><i>\n",
    "We'll have to split the name/publisher and join with the other df on name here.  I'm going to do this first so I can consolidate into one df.\n",
    "* <font color='dodgerblue' size=4><i> \n",
    "We have a little over 200 more entries for the hero powers dataset than the primary dataset.  I think for our purposes it makes sense to drop any superheros present in the 'powers' dataset that we don't have other information on.  I might consider doing a outer join just to view what we're missing from each.\n",
    "<font color='dodgerblue' size=4>\n"
   ]
  },
  {
   "cell_type": "markdown",
   "id": "383a0b35",
   "metadata": {},
   "source": [
    "## Cleaning"
   ]
  },
  {
   "cell_type": "markdown",
   "id": "affa99ad",
   "metadata": {},
   "source": [
    "### Splitting name/publisher to two columns"
   ]
  },
  {
   "cell_type": "code",
   "execution_count": 12,
   "id": "5ac6d455",
   "metadata": {},
   "outputs": [
    {
     "data": {
      "text/html": [
       "<div>\n",
       "<style scoped>\n",
       "    .dataframe tbody tr th:only-of-type {\n",
       "        vertical-align: middle;\n",
       "    }\n",
       "\n",
       "    .dataframe tbody tr th {\n",
       "        vertical-align: top;\n",
       "    }\n",
       "\n",
       "    .dataframe thead th {\n",
       "        text-align: right;\n",
       "    }\n",
       "</style>\n",
       "<table border=\"1\" class=\"dataframe\">\n",
       "  <thead>\n",
       "    <tr style=\"text-align: right;\">\n",
       "      <th></th>\n",
       "      <th>name</th>\n",
       "      <th>publisher</th>\n",
       "      <th>Hero|Publisher</th>\n",
       "    </tr>\n",
       "  </thead>\n",
       "  <tbody>\n",
       "    <tr>\n",
       "      <th>0</th>\n",
       "      <td>A-Bomb</td>\n",
       "      <td>Marvel Comics</td>\n",
       "      <td>A-Bomb|Marvel Comics</td>\n",
       "    </tr>\n",
       "    <tr>\n",
       "      <th>1</th>\n",
       "      <td>Abe Sapien</td>\n",
       "      <td>Dark Horse Comics</td>\n",
       "      <td>Abe Sapien|Dark Horse Comics</td>\n",
       "    </tr>\n",
       "    <tr>\n",
       "      <th>2</th>\n",
       "      <td>Abin Sur</td>\n",
       "      <td>DC Comics</td>\n",
       "      <td>Abin Sur|DC Comics</td>\n",
       "    </tr>\n",
       "    <tr>\n",
       "      <th>3</th>\n",
       "      <td>Abomination</td>\n",
       "      <td>Marvel Comics</td>\n",
       "      <td>Abomination|Marvel Comics</td>\n",
       "    </tr>\n",
       "    <tr>\n",
       "      <th>4</th>\n",
       "      <td>Absorbing Man</td>\n",
       "      <td>Marvel Comics</td>\n",
       "      <td>Absorbing Man|Marvel Comics</td>\n",
       "    </tr>\n",
       "    <tr>\n",
       "      <th>...</th>\n",
       "      <td>...</td>\n",
       "      <td>...</td>\n",
       "      <td>...</td>\n",
       "    </tr>\n",
       "    <tr>\n",
       "      <th>458</th>\n",
       "      <td>Yellowjacket</td>\n",
       "      <td>Marvel Comics</td>\n",
       "      <td>Yellowjacket|Marvel Comics</td>\n",
       "    </tr>\n",
       "    <tr>\n",
       "      <th>459</th>\n",
       "      <td>Yellowjacket II</td>\n",
       "      <td>Marvel Comics</td>\n",
       "      <td>Yellowjacket II|Marvel Comics</td>\n",
       "    </tr>\n",
       "    <tr>\n",
       "      <th>460</th>\n",
       "      <td>Yoda</td>\n",
       "      <td>George Lucas</td>\n",
       "      <td>Yoda|George Lucas</td>\n",
       "    </tr>\n",
       "    <tr>\n",
       "      <th>461</th>\n",
       "      <td>Zatanna</td>\n",
       "      <td>DC Comics</td>\n",
       "      <td>Zatanna|DC Comics</td>\n",
       "    </tr>\n",
       "    <tr>\n",
       "      <th>462</th>\n",
       "      <td>Zoom</td>\n",
       "      <td>DC Comics</td>\n",
       "      <td>Zoom|DC Comics</td>\n",
       "    </tr>\n",
       "  </tbody>\n",
       "</table>\n",
       "<p>463 rows × 3 columns</p>\n",
       "</div>"
      ],
      "text/plain": [
       "                name          publisher                 Hero|Publisher\n",
       "0             A-Bomb      Marvel Comics           A-Bomb|Marvel Comics\n",
       "1         Abe Sapien  Dark Horse Comics   Abe Sapien|Dark Horse Comics\n",
       "2           Abin Sur          DC Comics             Abin Sur|DC Comics\n",
       "3        Abomination      Marvel Comics      Abomination|Marvel Comics\n",
       "4      Absorbing Man      Marvel Comics    Absorbing Man|Marvel Comics\n",
       "..               ...                ...                            ...\n",
       "458     Yellowjacket      Marvel Comics     Yellowjacket|Marvel Comics\n",
       "459  Yellowjacket II      Marvel Comics  Yellowjacket II|Marvel Comics\n",
       "460             Yoda       George Lucas              Yoda|George Lucas\n",
       "461          Zatanna          DC Comics              Zatanna|DC Comics\n",
       "462             Zoom          DC Comics                 Zoom|DC Comics\n",
       "\n",
       "[463 rows x 3 columns]"
      ]
     },
     "execution_count": 12,
     "metadata": {},
     "output_type": "execute_result"
    }
   ],
   "source": [
    "# making the new columns\n",
    "df_info[['name', 'publisher']] = df_info['Hero|Publisher'].str.split('|', expand=True)\n",
    "\n",
    "# confirmings\n",
    "df_info[['name', 'publisher', 'Hero|Publisher']]"
   ]
  },
  {
   "cell_type": "markdown",
   "id": "b381225f",
   "metadata": {},
   "source": [
    "<mark><u>**Comment:**</u>\n",
    "\n",
    "<font color='dodgerblue' size=4><i>\n",
    "Looks good, we can now drop the combined column ('Hero/Publisher')\n",
    "</i></font>"
   ]
  },
  {
   "cell_type": "code",
   "execution_count": 14,
   "id": "dcd3bc74",
   "metadata": {},
   "outputs": [
    {
     "data": {
      "text/plain": [
       "Index(['Gender', 'Race', 'Alignment', 'Hair color', 'Eye color', 'Skin color',\n",
       "       'Measurements', 'name', 'publisher'],\n",
       "      dtype='object')"
      ]
     },
     "execution_count": 14,
     "metadata": {},
     "output_type": "execute_result"
    }
   ],
   "source": [
    "# dropping 'Hero/Publisher column'\n",
    "df_info = df_info.drop(columns='Hero|Publisher').copy()\n",
    "\n",
    "# confirming\n",
    "df_info.columns"
   ]
  },
  {
   "cell_type": "markdown",
   "id": "4f3a9e04",
   "metadata": {},
   "source": [
    "### Joining Dataframes"
   ]
  },
  {
   "cell_type": "code",
   "execution_count": 15,
   "id": "74f54eb5",
   "metadata": {},
   "outputs": [],
   "source": [
    "# joining with a outer join to see where we are missing data from df_info\n",
    "df_all = df_info.merge(df_powers, left_on='name', right_on='hero_names', how='outer')"
   ]
  },
  {
   "cell_type": "code",
   "execution_count": 21,
   "id": "41a586fd",
   "metadata": {},
   "outputs": [
    {
     "data": {
      "text/html": [
       "<div>\n",
       "<style scoped>\n",
       "    .dataframe tbody tr th:only-of-type {\n",
       "        vertical-align: middle;\n",
       "    }\n",
       "\n",
       "    .dataframe tbody tr th {\n",
       "        vertical-align: top;\n",
       "    }\n",
       "\n",
       "    .dataframe thead th {\n",
       "        text-align: right;\n",
       "    }\n",
       "</style>\n",
       "<table border=\"1\" class=\"dataframe\">\n",
       "  <thead>\n",
       "    <tr style=\"text-align: right;\">\n",
       "      <th></th>\n",
       "      <th>Gender</th>\n",
       "      <th>Race</th>\n",
       "      <th>Alignment</th>\n",
       "      <th>Hair color</th>\n",
       "      <th>Eye color</th>\n",
       "      <th>Skin color</th>\n",
       "      <th>Measurements</th>\n",
       "      <th>name</th>\n",
       "      <th>publisher</th>\n",
       "      <th>hero_names</th>\n",
       "      <th>Powers</th>\n",
       "    </tr>\n",
       "  </thead>\n",
       "  <tbody>\n",
       "    <tr>\n",
       "      <th>534</th>\n",
       "      <td>NaN</td>\n",
       "      <td>NaN</td>\n",
       "      <td>NaN</td>\n",
       "      <td>NaN</td>\n",
       "      <td>NaN</td>\n",
       "      <td>NaN</td>\n",
       "      <td>NaN</td>\n",
       "      <td>NaN</td>\n",
       "      <td>NaN</td>\n",
       "      <td>Dormammu</td>\n",
       "      <td>Power Augmentation,Super Strength,Telepathy,Si...</td>\n",
       "    </tr>\n",
       "    <tr>\n",
       "      <th>317</th>\n",
       "      <td>Female</td>\n",
       "      <td>Human</td>\n",
       "      <td>bad</td>\n",
       "      <td>Red</td>\n",
       "      <td>green</td>\n",
       "      <td>green</td>\n",
       "      <td>{'Height': '168.0 cm', 'Weight': '50.0 kg'}</td>\n",
       "      <td>Poison Ivy</td>\n",
       "      <td>DC Comics</td>\n",
       "      <td>Poison Ivy</td>\n",
       "      <td>Agility,Accelerated Healing,Marksmanship,Super...</td>\n",
       "    </tr>\n",
       "    <tr>\n",
       "      <th>530</th>\n",
       "      <td>NaN</td>\n",
       "      <td>NaN</td>\n",
       "      <td>NaN</td>\n",
       "      <td>NaN</td>\n",
       "      <td>NaN</td>\n",
       "      <td>NaN</td>\n",
       "      <td>NaN</td>\n",
       "      <td>NaN</td>\n",
       "      <td>NaN</td>\n",
       "      <td>Data</td>\n",
       "      <td>Agility,Cold Resistance,Durability,Longevity,I...</td>\n",
       "    </tr>\n",
       "    <tr>\n",
       "      <th>53</th>\n",
       "      <td>Female</td>\n",
       "      <td>New God</td>\n",
       "      <td>bad</td>\n",
       "      <td>Black</td>\n",
       "      <td>blue</td>\n",
       "      <td>Unknown</td>\n",
       "      <td>{'Height': '188.0 cm', 'Weight': '135.0 kg'}</td>\n",
       "      <td>Big Barda</td>\n",
       "      <td>DC Comics</td>\n",
       "      <td>Big Barda</td>\n",
       "      <td>Agility,Durability,Flight,Longevity,Super Stre...</td>\n",
       "    </tr>\n",
       "    <tr>\n",
       "      <th>389</th>\n",
       "      <td>Female</td>\n",
       "      <td>Unknown</td>\n",
       "      <td>bad</td>\n",
       "      <td>White</td>\n",
       "      <td>red</td>\n",
       "      <td>Unknown</td>\n",
       "      <td>{'Height': '178.0 cm', 'Weight': '58.0 kg'}</td>\n",
       "      <td>Spider-Woman IV</td>\n",
       "      <td>Marvel Comics</td>\n",
       "      <td>Spider-Woman IV</td>\n",
       "      <td>Agility,Flight,Super Strength,Telepathy,Energy...</td>\n",
       "    </tr>\n",
       "  </tbody>\n",
       "</table>\n",
       "</div>"
      ],
      "text/plain": [
       "     Gender     Race Alignment Hair color Eye color Skin color  \\\n",
       "534     NaN      NaN       NaN        NaN       NaN        NaN   \n",
       "317  Female    Human       bad        Red     green      green   \n",
       "530     NaN      NaN       NaN        NaN       NaN        NaN   \n",
       "53   Female  New God       bad      Black      blue    Unknown   \n",
       "389  Female  Unknown       bad      White       red    Unknown   \n",
       "\n",
       "                                     Measurements             name  \\\n",
       "534                                           NaN              NaN   \n",
       "317   {'Height': '168.0 cm', 'Weight': '50.0 kg'}       Poison Ivy   \n",
       "530                                           NaN              NaN   \n",
       "53   {'Height': '188.0 cm', 'Weight': '135.0 kg'}        Big Barda   \n",
       "389   {'Height': '178.0 cm', 'Weight': '58.0 kg'}  Spider-Woman IV   \n",
       "\n",
       "         publisher       hero_names  \\\n",
       "534            NaN         Dormammu   \n",
       "317      DC Comics       Poison Ivy   \n",
       "530            NaN             Data   \n",
       "53       DC Comics        Big Barda   \n",
       "389  Marvel Comics  Spider-Woman IV   \n",
       "\n",
       "                                                Powers  \n",
       "534  Power Augmentation,Super Strength,Telepathy,Si...  \n",
       "317  Agility,Accelerated Healing,Marksmanship,Super...  \n",
       "530  Agility,Cold Resistance,Durability,Longevity,I...  \n",
       "53   Agility,Durability,Flight,Longevity,Super Stre...  \n",
       "389  Agility,Flight,Super Strength,Telepathy,Energy...  "
      ]
     },
     "metadata": {},
     "output_type": "display_data"
    }
   ],
   "source": [
    "# viewing\n",
    "display(df_all.sample(5))"
   ]
  },
  {
   "cell_type": "markdown",
   "id": "effa5402",
   "metadata": {},
   "source": [
    "<mark><u>**Comment:**</u>\n",
    "\n",
    "<font color='dodgerblue' size=4><i>\n",
    "After reviewing the results of the full join in greater depth, it does not appear that we have dirty data that would result in superheros dropped which should be added to our final dataset.  There are simply superheros in the 'powers' dataset that do not appear in the 'info' set.  It makes sense to just do an inner join and lose the superheros for which we do not have information, especially considering that we are trying to answer a question regarding average weight.\n",
    "</i></font>"
   ]
  },
  {
   "cell_type": "code",
   "execution_count": 33,
   "id": "64f4a926",
   "metadata": {},
   "outputs": [],
   "source": [
    "# joining dfs\n",
    "df = df_info.merge(df_powers, left_on='name', right_on='hero_names')\n",
    "\n",
    "# making a copy for comparison if needed\n",
    "df_original = df.copy()"
   ]
  },
  {
   "cell_type": "code",
   "execution_count": 35,
   "id": "707f559c",
   "metadata": {},
   "outputs": [
    {
     "name": "stdout",
     "output_type": "stream",
     "text": [
      "<class 'pandas.core.frame.DataFrame'>\n",
      "Int64Index: 463 entries, 0 to 462\n",
      "Data columns (total 11 columns):\n",
      " #   Column        Non-Null Count  Dtype \n",
      "---  ------        --------------  ----- \n",
      " 0   Gender        463 non-null    object\n",
      " 1   Race          463 non-null    object\n",
      " 2   Alignment     463 non-null    object\n",
      " 3   Hair color    463 non-null    object\n",
      " 4   Eye color     463 non-null    object\n",
      " 5   Skin color    463 non-null    object\n",
      " 6   Measurements  463 non-null    object\n",
      " 7   name          463 non-null    object\n",
      " 8   publisher     463 non-null    object\n",
      " 9   hero_names    463 non-null    object\n",
      " 10  Powers        463 non-null    object\n",
      "dtypes: object(11)\n",
      "memory usage: 43.4+ KB\n"
     ]
    },
    {
     "data": {
      "text/plain": [
       "None"
      ]
     },
     "metadata": {},
     "output_type": "display_data"
    },
    {
     "data": {
      "text/html": [
       "<div>\n",
       "<style scoped>\n",
       "    .dataframe tbody tr th:only-of-type {\n",
       "        vertical-align: middle;\n",
       "    }\n",
       "\n",
       "    .dataframe tbody tr th {\n",
       "        vertical-align: top;\n",
       "    }\n",
       "\n",
       "    .dataframe thead th {\n",
       "        text-align: right;\n",
       "    }\n",
       "</style>\n",
       "<table border=\"1\" class=\"dataframe\">\n",
       "  <thead>\n",
       "    <tr style=\"text-align: right;\">\n",
       "      <th></th>\n",
       "      <th>Gender</th>\n",
       "      <th>Race</th>\n",
       "      <th>Alignment</th>\n",
       "      <th>Hair color</th>\n",
       "      <th>Eye color</th>\n",
       "      <th>Skin color</th>\n",
       "      <th>Measurements</th>\n",
       "      <th>name</th>\n",
       "      <th>publisher</th>\n",
       "      <th>hero_names</th>\n",
       "      <th>Powers</th>\n",
       "    </tr>\n",
       "  </thead>\n",
       "  <tbody>\n",
       "    <tr>\n",
       "      <th>292</th>\n",
       "      <td>Male</td>\n",
       "      <td>Human</td>\n",
       "      <td>bad</td>\n",
       "      <td>No Hair</td>\n",
       "      <td>brown</td>\n",
       "      <td>Unknown</td>\n",
       "      <td>{'Height': '180.0 cm', 'Weight': '79.0 kg'}</td>\n",
       "      <td>Mysterio</td>\n",
       "      <td>Marvel Comics</td>\n",
       "      <td>Mysterio</td>\n",
       "      <td>Weapons Master,Intelligence,Stamina,Weapon-bas...</td>\n",
       "    </tr>\n",
       "    <tr>\n",
       "      <th>253</th>\n",
       "      <td>Male</td>\n",
       "      <td>Human</td>\n",
       "      <td>good</td>\n",
       "      <td>Black</td>\n",
       "      <td>brown</td>\n",
       "      <td>Unknown</td>\n",
       "      <td>{'Height': '198.0 cm', 'Weight': '191.0 kg'}</td>\n",
       "      <td>Luke Cage</td>\n",
       "      <td>Marvel Comics</td>\n",
       "      <td>Luke Cage</td>\n",
       "      <td>Accelerated Healing,Durability,Super Strength,...</td>\n",
       "    </tr>\n",
       "    <tr>\n",
       "      <th>296</th>\n",
       "      <td>Female</td>\n",
       "      <td>Unknown</td>\n",
       "      <td>good</td>\n",
       "      <td>Blond</td>\n",
       "      <td>blue</td>\n",
       "      <td>Unknown</td>\n",
       "      <td>{'Height': '168.0 cm', 'Weight': '101.0 kg'}</td>\n",
       "      <td>Namorita</td>\n",
       "      <td>Marvel Comics</td>\n",
       "      <td>Namorita</td>\n",
       "      <td>Agility,Accelerated Healing,Durability,Flight,...</td>\n",
       "    </tr>\n",
       "  </tbody>\n",
       "</table>\n",
       "</div>"
      ],
      "text/plain": [
       "     Gender     Race Alignment Hair color Eye color Skin color  \\\n",
       "292    Male    Human       bad    No Hair     brown    Unknown   \n",
       "253    Male    Human      good      Black     brown    Unknown   \n",
       "296  Female  Unknown      good      Blond      blue    Unknown   \n",
       "\n",
       "                                     Measurements       name      publisher  \\\n",
       "292   {'Height': '180.0 cm', 'Weight': '79.0 kg'}   Mysterio  Marvel Comics   \n",
       "253  {'Height': '198.0 cm', 'Weight': '191.0 kg'}  Luke Cage  Marvel Comics   \n",
       "296  {'Height': '168.0 cm', 'Weight': '101.0 kg'}   Namorita  Marvel Comics   \n",
       "\n",
       "    hero_names                                             Powers  \n",
       "292   Mysterio  Weapons Master,Intelligence,Stamina,Weapon-bas...  \n",
       "253  Luke Cage  Accelerated Healing,Durability,Super Strength,...  \n",
       "296   Namorita  Agility,Accelerated Healing,Durability,Flight,...  "
      ]
     },
     "metadata": {},
     "output_type": "display_data"
    }
   ],
   "source": [
    "# viewing the new df\n",
    "display(df.info(), df.sample(3))"
   ]
  },
  {
   "cell_type": "markdown",
   "id": "2c353177",
   "metadata": {},
   "source": [
    "<mark><u>**Comment:**</u>\n",
    "\n",
    "<font color='dodgerblue' size=4><i>\n",
    "Our join looks good, we can now drop 'hero_names', as it's redundant.  We are now working with 463 heroes (the heroes that we have more extensive info on, from df_info dataframe) \n",
    "</i></font>"
   ]
  },
  {
   "cell_type": "code",
   "execution_count": 36,
   "id": "4d9ed877",
   "metadata": {},
   "outputs": [],
   "source": [
    "# dropping 'hero_names'\n",
    "df = df.drop(columns='hero_names').copy()\n",
    "\n",
    "# confirming\n",
    "df.columns"
   ]
  },
  {
   "cell_type": "markdown",
   "id": "b1ac6047",
   "metadata": {},
   "source": [
    "### Fixing Column Names"
   ]
  },
  {
   "cell_type": "code",
   "execution_count": 38,
   "id": "77931be6",
   "metadata": {},
   "outputs": [
    {
     "data": {
      "text/plain": [
       "Index(['gender', 'race', 'alignment', 'hair_color', 'eye_color', 'skin_color',\n",
       "       'measurements', 'name', 'publisher', 'powers'],\n",
       "      dtype='object')"
      ]
     },
     "execution_count": 38,
     "metadata": {},
     "output_type": "execute_result"
    }
   ],
   "source": [
    "# changing column names to snakecase\n",
    "df = df.rename(columns = lambda x: '_'.join(x.lower().split()))\n",
    "\n",
    "# confirming\n",
    "df.columns"
   ]
  },
  {
   "cell_type": "code",
   "execution_count": null,
   "id": "0d9f156d",
   "metadata": {},
   "outputs": [],
   "source": []
  }
 ],
 "metadata": {
  "kernelspec": {
   "display_name": "Python (dojo-env)",
   "language": "python",
   "name": "dojo-env"
  },
  "language_info": {
   "codemirror_mode": {
    "name": "ipython",
    "version": 3
   },
   "file_extension": ".py",
   "mimetype": "text/x-python",
   "name": "python",
   "nbconvert_exporter": "python",
   "pygments_lexer": "ipython3",
   "version": "3.9.15"
  },
  "toc": {
   "base_numbering": 1,
   "nav_menu": {},
   "number_sections": false,
   "sideBar": true,
   "skip_h1_title": false,
   "title_cell": "Table of Contents",
   "title_sidebar": "Contents",
   "toc_cell": false,
   "toc_position": {},
   "toc_section_display": true,
   "toc_window_display": false
  },
  "varInspector": {
   "cols": {
    "lenName": 16,
    "lenType": 16,
    "lenVar": 40
   },
   "kernels_config": {
    "python": {
     "delete_cmd_postfix": "",
     "delete_cmd_prefix": "del ",
     "library": "var_list.py",
     "varRefreshCmd": "print(var_dic_list())"
    },
    "r": {
     "delete_cmd_postfix": ") ",
     "delete_cmd_prefix": "rm(",
     "library": "var_list.r",
     "varRefreshCmd": "cat(var_dic_list()) "
    }
   },
   "types_to_exclude": [
    "module",
    "function",
    "builtin_function_or_method",
    "instance",
    "_Feature"
   ],
   "window_display": false
  }
 },
 "nbformat": 4,
 "nbformat_minor": 5
}
